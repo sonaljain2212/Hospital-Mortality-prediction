{
  "nbformat": 4,
  "nbformat_minor": 0,
  "metadata": {
    "kernelspec": {
      "display_name": "Python 3",
      "language": "python",
      "name": "python3"
    },
    "language_info": {
      "codemirror_mode": {
        "name": "ipython",
        "version": 3
      },
      "file_extension": ".py",
      "mimetype": "text/x-python",
      "name": "python",
      "nbconvert_exporter": "python",
      "pygments_lexer": "ipython3",
      "version": "3.6.6"
    },
    "colab": {
      "name": "Hospital_Mortality.ipynb",
      "provenance": [],
      "toc_visible": true
    }
  },
  "cells": [
    {
      "cell_type": "code",
      "metadata": {
        "colab": {
          "base_uri": "https://localhost:8080/"
        },
        "id": "rNO84sdSkeiD",
        "outputId": "67ab6653-b0fb-434d-db13-12192a563f34"
      },
      "source": [
        "#Mounting colab to read the data from google drive\r\n",
        "from google.colab import drive\r\n",
        "drive.mount(\"/content/drive\")"
      ],
      "execution_count": 120,
      "outputs": [
        {
          "output_type": "stream",
          "text": [
            "Drive already mounted at /content/drive; to attempt to forcibly remount, call drive.mount(\"/content/drive\", force_remount=True).\n"
          ],
          "name": "stdout"
        }
      ]
    },
    {
      "cell_type": "code",
      "metadata": {
        "collapsed": true,
        "id": "vl5omzJFiNx-"
      },
      "source": [
        "#imports\r\n",
        "import matplotlib.pyplot as plt\r\n",
        "%matplotlib inline\r\n",
        "import seaborn as sns\r\n",
        "import pandas as pd\r\n",
        "import numpy as np\r\n",
        "\r\n",
        "from datetime import datetime\r\n",
        "\r\n",
        "from plotly.subplots import make_subplots\r\n",
        "from sklearn.linear_model import LogisticRegression\r\n",
        "from sklearn.metrics import classification_report\r\n",
        "from sklearn.metrics import confusion_matrix\r\n",
        "from sklearn.ensemble import RandomForestClassifier\r\n",
        "from sklearn.metrics import plot_confusion_matrix\r\n",
        "from sklearn.datasets import make_classification\r\n",
        "from collections import Counter\r\n",
        "from xgboost import XGBClassifier\r\n",
        "from sklearn.metrics import confusion_matrix, precision_score, recall_score, f1_score\r\n",
        "from imblearn.over_sampling import SMOTE\r\n",
        "from sklearn.model_selection import train_test_split"
      ],
      "execution_count": 121,
      "outputs": []
    },
    {
      "cell_type": "markdown",
      "metadata": {
        "id": "0lQPlhMyiNyA"
      },
      "source": [
        "# Load data"
      ]
    },
    {
      "cell_type": "code",
      "metadata": {
        "colab": {
          "base_uri": "https://localhost:8080/",
          "height": 261
        },
        "id": "cdg4kxEqiNyB",
        "outputId": "2f54f6ec-ef4d-453a-89fa-0182cd3c21f0"
      },
      "source": [
        "hospital_data = pd.read_csv(\"/content/drive/MyDrive/hospital_mortality.csv\")\n",
        "hospital_data.head(5)"
      ],
      "execution_count": 122,
      "outputs": [
        {
          "output_type": "execute_result",
          "data": {
            "text/html": [
              "<div>\n",
              "<style scoped>\n",
              "    .dataframe tbody tr th:only-of-type {\n",
              "        vertical-align: middle;\n",
              "    }\n",
              "\n",
              "    .dataframe tbody tr th {\n",
              "        vertical-align: top;\n",
              "    }\n",
              "\n",
              "    .dataframe thead th {\n",
              "        text-align: right;\n",
              "    }\n",
              "</style>\n",
              "<table border=\"1\" class=\"dataframe\">\n",
              "  <thead>\n",
              "    <tr style=\"text-align: right;\">\n",
              "      <th></th>\n",
              "      <th>PATIENT_ID</th>\n",
              "      <th>Age</th>\n",
              "      <th>Gender</th>\n",
              "      <th>Height</th>\n",
              "      <th>ICUType</th>\n",
              "      <th>BUN_Min</th>\n",
              "      <th>Creatinine_Min</th>\n",
              "      <th>GCS_Min</th>\n",
              "      <th>Glucose_Min</th>\n",
              "      <th>HCO3_Min</th>\n",
              "      <th>HCT_Min</th>\n",
              "      <th>HR_Min</th>\n",
              "      <th>K_Min</th>\n",
              "      <th>Mg_Min</th>\n",
              "      <th>NIDiasABP_Min</th>\n",
              "      <th>NIMAP_Min</th>\n",
              "      <th>NISysABP_Min</th>\n",
              "      <th>Na_Min</th>\n",
              "      <th>PaCO2_Min</th>\n",
              "      <th>PaO2_Min</th>\n",
              "      <th>Platelets_Min</th>\n",
              "      <th>Temp_Min</th>\n",
              "      <th>Urine_Min</th>\n",
              "      <th>WBC_Min</th>\n",
              "      <th>Weight_Min</th>\n",
              "      <th>pH_Min</th>\n",
              "      <th>BUN_Max</th>\n",
              "      <th>Creatinine_Max</th>\n",
              "      <th>GCS_Max</th>\n",
              "      <th>Glucose_Max</th>\n",
              "      <th>HCO3_Max</th>\n",
              "      <th>HCT_Max</th>\n",
              "      <th>HR_Max</th>\n",
              "      <th>K_Max</th>\n",
              "      <th>Mg_Max</th>\n",
              "      <th>NIDiasABP_Max</th>\n",
              "      <th>NIMAP_Max</th>\n",
              "      <th>NISysABP_Max</th>\n",
              "      <th>Na_Max</th>\n",
              "      <th>PaCO2_Max</th>\n",
              "      <th>...</th>\n",
              "      <th>Glucose_Median</th>\n",
              "      <th>HCO3_Median</th>\n",
              "      <th>HCT_Median</th>\n",
              "      <th>HR_Median</th>\n",
              "      <th>K_Median</th>\n",
              "      <th>Mg_Median</th>\n",
              "      <th>NIDiasABP_Median</th>\n",
              "      <th>NIMAP_Median</th>\n",
              "      <th>NISysABP_Median</th>\n",
              "      <th>Na_Median</th>\n",
              "      <th>PaCO2_Median</th>\n",
              "      <th>PaO2_Median</th>\n",
              "      <th>Platelets_Median</th>\n",
              "      <th>Temp_Median</th>\n",
              "      <th>Urine_Median</th>\n",
              "      <th>WBC_Median</th>\n",
              "      <th>Weight_Median</th>\n",
              "      <th>pH_Median</th>\n",
              "      <th>BUN_Range</th>\n",
              "      <th>Creatinine_Range</th>\n",
              "      <th>GCS_Range</th>\n",
              "      <th>Glucose_Range</th>\n",
              "      <th>HCO3_Range</th>\n",
              "      <th>HCT_Range</th>\n",
              "      <th>HR_Range</th>\n",
              "      <th>K_Range</th>\n",
              "      <th>Mg_Range</th>\n",
              "      <th>NIDiasABP_Range</th>\n",
              "      <th>NIMAP_Range</th>\n",
              "      <th>NISysABP_Range</th>\n",
              "      <th>Na_Range</th>\n",
              "      <th>PaCO2_Range</th>\n",
              "      <th>PaO2_Range</th>\n",
              "      <th>Platelets_Range</th>\n",
              "      <th>Temp_Range</th>\n",
              "      <th>Urine_Range</th>\n",
              "      <th>WBC_Range</th>\n",
              "      <th>Weight_Range</th>\n",
              "      <th>pH_Range</th>\n",
              "      <th>In-hospital_death</th>\n",
              "    </tr>\n",
              "  </thead>\n",
              "  <tbody>\n",
              "    <tr>\n",
              "      <th>0</th>\n",
              "      <td>132539.0</td>\n",
              "      <td>54.0</td>\n",
              "      <td>0.0</td>\n",
              "      <td>-1.0</td>\n",
              "      <td>4.0</td>\n",
              "      <td>8.0</td>\n",
              "      <td>0.7</td>\n",
              "      <td>14.0</td>\n",
              "      <td>115.0</td>\n",
              "      <td>26.0</td>\n",
              "      <td>30.3</td>\n",
              "      <td>58.0</td>\n",
              "      <td>4.0</td>\n",
              "      <td>1.5</td>\n",
              "      <td>39.0</td>\n",
              "      <td>58.67</td>\n",
              "      <td>96.0</td>\n",
              "      <td>136.0</td>\n",
              "      <td>NaN</td>\n",
              "      <td>NaN</td>\n",
              "      <td>185.0</td>\n",
              "      <td>35.1</td>\n",
              "      <td>0.0</td>\n",
              "      <td>9.4</td>\n",
              "      <td>-1.0</td>\n",
              "      <td>NaN</td>\n",
              "      <td>13.0</td>\n",
              "      <td>0.8</td>\n",
              "      <td>15.0</td>\n",
              "      <td>205.0</td>\n",
              "      <td>28.0</td>\n",
              "      <td>33.7</td>\n",
              "      <td>86.0</td>\n",
              "      <td>4.4</td>\n",
              "      <td>1.9</td>\n",
              "      <td>67.0</td>\n",
              "      <td>92.33</td>\n",
              "      <td>157.0</td>\n",
              "      <td>137.0</td>\n",
              "      <td>NaN</td>\n",
              "      <td>...</td>\n",
              "      <td>160.0</td>\n",
              "      <td>27.0</td>\n",
              "      <td>33.5</td>\n",
              "      <td>73.0</td>\n",
              "      <td>4.2</td>\n",
              "      <td>1.70</td>\n",
              "      <td>49.0</td>\n",
              "      <td>70.000</td>\n",
              "      <td>110.0</td>\n",
              "      <td>136.5</td>\n",
              "      <td>NaN</td>\n",
              "      <td>NaN</td>\n",
              "      <td>203.0</td>\n",
              "      <td>37.70</td>\n",
              "      <td>100.0</td>\n",
              "      <td>10.3</td>\n",
              "      <td>-1.0</td>\n",
              "      <td>NaN</td>\n",
              "      <td>5.0</td>\n",
              "      <td>0.1</td>\n",
              "      <td>1.0</td>\n",
              "      <td>90.0</td>\n",
              "      <td>2.0</td>\n",
              "      <td>3.4</td>\n",
              "      <td>28.0</td>\n",
              "      <td>0.4</td>\n",
              "      <td>0.4</td>\n",
              "      <td>28.0</td>\n",
              "      <td>33.66</td>\n",
              "      <td>61.0</td>\n",
              "      <td>1.0</td>\n",
              "      <td>NaN</td>\n",
              "      <td>NaN</td>\n",
              "      <td>36.0</td>\n",
              "      <td>3.1</td>\n",
              "      <td>900.0</td>\n",
              "      <td>1.8</td>\n",
              "      <td>0.0</td>\n",
              "      <td>NaN</td>\n",
              "      <td>0</td>\n",
              "    </tr>\n",
              "    <tr>\n",
              "      <th>1</th>\n",
              "      <td>132540.0</td>\n",
              "      <td>76.0</td>\n",
              "      <td>1.0</td>\n",
              "      <td>175.3</td>\n",
              "      <td>2.0</td>\n",
              "      <td>16.0</td>\n",
              "      <td>0.8</td>\n",
              "      <td>3.0</td>\n",
              "      <td>105.0</td>\n",
              "      <td>21.0</td>\n",
              "      <td>24.7</td>\n",
              "      <td>65.0</td>\n",
              "      <td>3.5</td>\n",
              "      <td>1.9</td>\n",
              "      <td>38.0</td>\n",
              "      <td>49.33</td>\n",
              "      <td>72.0</td>\n",
              "      <td>135.0</td>\n",
              "      <td>33.0</td>\n",
              "      <td>82.0</td>\n",
              "      <td>135.0</td>\n",
              "      <td>34.5</td>\n",
              "      <td>0.0</td>\n",
              "      <td>7.4</td>\n",
              "      <td>76.0</td>\n",
              "      <td>7.34</td>\n",
              "      <td>21.0</td>\n",
              "      <td>1.3</td>\n",
              "      <td>15.0</td>\n",
              "      <td>146.0</td>\n",
              "      <td>24.0</td>\n",
              "      <td>30.7</td>\n",
              "      <td>90.0</td>\n",
              "      <td>4.3</td>\n",
              "      <td>3.1</td>\n",
              "      <td>67.0</td>\n",
              "      <td>88.33</td>\n",
              "      <td>131.0</td>\n",
              "      <td>139.0</td>\n",
              "      <td>46.0</td>\n",
              "      <td>...</td>\n",
              "      <td>125.5</td>\n",
              "      <td>22.0</td>\n",
              "      <td>28.8</td>\n",
              "      <td>80.0</td>\n",
              "      <td>3.9</td>\n",
              "      <td>2.10</td>\n",
              "      <td>59.0</td>\n",
              "      <td>78.165</td>\n",
              "      <td>115.0</td>\n",
              "      <td>137.0</td>\n",
              "      <td>40.0</td>\n",
              "      <td>153.0</td>\n",
              "      <td>181.0</td>\n",
              "      <td>37.45</td>\n",
              "      <td>90.0</td>\n",
              "      <td>13.1</td>\n",
              "      <td>80.6</td>\n",
              "      <td>7.4</td>\n",
              "      <td>5.0</td>\n",
              "      <td>0.5</td>\n",
              "      <td>12.0</td>\n",
              "      <td>41.0</td>\n",
              "      <td>3.0</td>\n",
              "      <td>6.0</td>\n",
              "      <td>25.0</td>\n",
              "      <td>0.8</td>\n",
              "      <td>1.2</td>\n",
              "      <td>29.0</td>\n",
              "      <td>39.00</td>\n",
              "      <td>59.0</td>\n",
              "      <td>4.0</td>\n",
              "      <td>13.0</td>\n",
              "      <td>363.0</td>\n",
              "      <td>91.0</td>\n",
              "      <td>3.4</td>\n",
              "      <td>770.0</td>\n",
              "      <td>5.9</td>\n",
              "      <td>5.6</td>\n",
              "      <td>0.11</td>\n",
              "      <td>0</td>\n",
              "    </tr>\n",
              "    <tr>\n",
              "      <th>2</th>\n",
              "      <td>132541.0</td>\n",
              "      <td>44.0</td>\n",
              "      <td>0.0</td>\n",
              "      <td>-1.0</td>\n",
              "      <td>3.0</td>\n",
              "      <td>3.0</td>\n",
              "      <td>0.3</td>\n",
              "      <td>5.0</td>\n",
              "      <td>119.0</td>\n",
              "      <td>24.0</td>\n",
              "      <td>26.7</td>\n",
              "      <td>57.0</td>\n",
              "      <td>2.3</td>\n",
              "      <td>1.3</td>\n",
              "      <td>66.0</td>\n",
              "      <td>83.33</td>\n",
              "      <td>111.0</td>\n",
              "      <td>137.0</td>\n",
              "      <td>33.0</td>\n",
              "      <td>65.0</td>\n",
              "      <td>72.0</td>\n",
              "      <td>36.7</td>\n",
              "      <td>18.0</td>\n",
              "      <td>3.7</td>\n",
              "      <td>56.7</td>\n",
              "      <td>7.47</td>\n",
              "      <td>8.0</td>\n",
              "      <td>0.4</td>\n",
              "      <td>8.0</td>\n",
              "      <td>143.0</td>\n",
              "      <td>26.0</td>\n",
              "      <td>29.4</td>\n",
              "      <td>113.0</td>\n",
              "      <td>8.6</td>\n",
              "      <td>1.9</td>\n",
              "      <td>95.0</td>\n",
              "      <td>110.00</td>\n",
              "      <td>150.0</td>\n",
              "      <td>140.0</td>\n",
              "      <td>37.0</td>\n",
              "      <td>...</td>\n",
              "      <td>141.0</td>\n",
              "      <td>25.0</td>\n",
              "      <td>28.7</td>\n",
              "      <td>85.5</td>\n",
              "      <td>3.4</td>\n",
              "      <td>1.80</td>\n",
              "      <td>79.0</td>\n",
              "      <td>97.670</td>\n",
              "      <td>134.0</td>\n",
              "      <td>138.0</td>\n",
              "      <td>36.0</td>\n",
              "      <td>120.5</td>\n",
              "      <td>84.0</td>\n",
              "      <td>37.85</td>\n",
              "      <td>100.0</td>\n",
              "      <td>4.2</td>\n",
              "      <td>56.7</td>\n",
              "      <td>7.5</td>\n",
              "      <td>5.0</td>\n",
              "      <td>0.1</td>\n",
              "      <td>3.0</td>\n",
              "      <td>24.0</td>\n",
              "      <td>2.0</td>\n",
              "      <td>2.7</td>\n",
              "      <td>56.0</td>\n",
              "      <td>6.3</td>\n",
              "      <td>0.6</td>\n",
              "      <td>29.0</td>\n",
              "      <td>26.67</td>\n",
              "      <td>39.0</td>\n",
              "      <td>3.0</td>\n",
              "      <td>4.0</td>\n",
              "      <td>167.0</td>\n",
              "      <td>41.0</td>\n",
              "      <td>2.3</td>\n",
              "      <td>407.0</td>\n",
              "      <td>2.5</td>\n",
              "      <td>0.0</td>\n",
              "      <td>0.04</td>\n",
              "      <td>0</td>\n",
              "    </tr>\n",
              "    <tr>\n",
              "      <th>3</th>\n",
              "      <td>132543.0</td>\n",
              "      <td>68.0</td>\n",
              "      <td>1.0</td>\n",
              "      <td>180.3</td>\n",
              "      <td>3.0</td>\n",
              "      <td>10.0</td>\n",
              "      <td>0.7</td>\n",
              "      <td>14.0</td>\n",
              "      <td>106.0</td>\n",
              "      <td>27.0</td>\n",
              "      <td>36.1</td>\n",
              "      <td>57.0</td>\n",
              "      <td>3.8</td>\n",
              "      <td>1.9</td>\n",
              "      <td>45.0</td>\n",
              "      <td>68.33</td>\n",
              "      <td>102.0</td>\n",
              "      <td>137.0</td>\n",
              "      <td>NaN</td>\n",
              "      <td>NaN</td>\n",
              "      <td>284.0</td>\n",
              "      <td>35.1</td>\n",
              "      <td>100.0</td>\n",
              "      <td>7.9</td>\n",
              "      <td>84.6</td>\n",
              "      <td>NaN</td>\n",
              "      <td>23.0</td>\n",
              "      <td>0.9</td>\n",
              "      <td>15.0</td>\n",
              "      <td>129.0</td>\n",
              "      <td>28.0</td>\n",
              "      <td>41.3</td>\n",
              "      <td>88.0</td>\n",
              "      <td>4.2</td>\n",
              "      <td>2.1</td>\n",
              "      <td>81.0</td>\n",
              "      <td>100.70</td>\n",
              "      <td>140.0</td>\n",
              "      <td>141.0</td>\n",
              "      <td>NaN</td>\n",
              "      <td>...</td>\n",
              "      <td>117.0</td>\n",
              "      <td>28.0</td>\n",
              "      <td>36.8</td>\n",
              "      <td>74.0</td>\n",
              "      <td>4.0</td>\n",
              "      <td>2.10</td>\n",
              "      <td>64.0</td>\n",
              "      <td>83.670</td>\n",
              "      <td>120.0</td>\n",
              "      <td>140.0</td>\n",
              "      <td>NaN</td>\n",
              "      <td>NaN</td>\n",
              "      <td>315.0</td>\n",
              "      <td>36.40</td>\n",
              "      <td>625.0</td>\n",
              "      <td>8.8</td>\n",
              "      <td>84.6</td>\n",
              "      <td>NaN</td>\n",
              "      <td>13.0</td>\n",
              "      <td>0.2</td>\n",
              "      <td>1.0</td>\n",
              "      <td>23.0</td>\n",
              "      <td>1.0</td>\n",
              "      <td>5.2</td>\n",
              "      <td>31.0</td>\n",
              "      <td>0.4</td>\n",
              "      <td>0.2</td>\n",
              "      <td>36.0</td>\n",
              "      <td>32.37</td>\n",
              "      <td>38.0</td>\n",
              "      <td>4.0</td>\n",
              "      <td>NaN</td>\n",
              "      <td>NaN</td>\n",
              "      <td>107.0</td>\n",
              "      <td>1.9</td>\n",
              "      <td>600.0</td>\n",
              "      <td>3.6</td>\n",
              "      <td>0.0</td>\n",
              "      <td>NaN</td>\n",
              "      <td>0</td>\n",
              "    </tr>\n",
              "    <tr>\n",
              "      <th>4</th>\n",
              "      <td>132545.0</td>\n",
              "      <td>88.0</td>\n",
              "      <td>0.0</td>\n",
              "      <td>-1.0</td>\n",
              "      <td>3.0</td>\n",
              "      <td>25.0</td>\n",
              "      <td>1.0</td>\n",
              "      <td>15.0</td>\n",
              "      <td>92.0</td>\n",
              "      <td>18.0</td>\n",
              "      <td>22.6</td>\n",
              "      <td>65.0</td>\n",
              "      <td>3.8</td>\n",
              "      <td>1.5</td>\n",
              "      <td>26.0</td>\n",
              "      <td>52.33</td>\n",
              "      <td>105.0</td>\n",
              "      <td>139.0</td>\n",
              "      <td>NaN</td>\n",
              "      <td>NaN</td>\n",
              "      <td>97.0</td>\n",
              "      <td>35.8</td>\n",
              "      <td>16.0</td>\n",
              "      <td>3.8</td>\n",
              "      <td>-1.0</td>\n",
              "      <td>NaN</td>\n",
              "      <td>45.0</td>\n",
              "      <td>1.0</td>\n",
              "      <td>15.0</td>\n",
              "      <td>113.0</td>\n",
              "      <td>20.0</td>\n",
              "      <td>32.4</td>\n",
              "      <td>94.0</td>\n",
              "      <td>6.0</td>\n",
              "      <td>1.6</td>\n",
              "      <td>96.0</td>\n",
              "      <td>105.70</td>\n",
              "      <td>157.0</td>\n",
              "      <td>140.0</td>\n",
              "      <td>NaN</td>\n",
              "      <td>...</td>\n",
              "      <td>102.5</td>\n",
              "      <td>19.0</td>\n",
              "      <td>30.6</td>\n",
              "      <td>73.0</td>\n",
              "      <td>3.9</td>\n",
              "      <td>1.55</td>\n",
              "      <td>42.0</td>\n",
              "      <td>75.330</td>\n",
              "      <td>131.0</td>\n",
              "      <td>139.5</td>\n",
              "      <td>NaN</td>\n",
              "      <td>NaN</td>\n",
              "      <td>103.0</td>\n",
              "      <td>37.00</td>\n",
              "      <td>50.0</td>\n",
              "      <td>4.3</td>\n",
              "      <td>-1.0</td>\n",
              "      <td>NaN</td>\n",
              "      <td>20.0</td>\n",
              "      <td>0.0</td>\n",
              "      <td>0.0</td>\n",
              "      <td>21.0</td>\n",
              "      <td>2.0</td>\n",
              "      <td>9.8</td>\n",
              "      <td>29.0</td>\n",
              "      <td>2.2</td>\n",
              "      <td>0.1</td>\n",
              "      <td>70.0</td>\n",
              "      <td>53.37</td>\n",
              "      <td>52.0</td>\n",
              "      <td>1.0</td>\n",
              "      <td>NaN</td>\n",
              "      <td>NaN</td>\n",
              "      <td>12.0</td>\n",
              "      <td>2.0</td>\n",
              "      <td>204.0</td>\n",
              "      <td>1.0</td>\n",
              "      <td>0.0</td>\n",
              "      <td>NaN</td>\n",
              "      <td>0</td>\n",
              "    </tr>\n",
              "  </tbody>\n",
              "</table>\n",
              "<p>5 rows × 111 columns</p>\n",
              "</div>"
            ],
            "text/plain": [
              "   PATIENT_ID   Age  Gender  ...  Weight_Range  pH_Range  In-hospital_death\n",
              "0    132539.0  54.0     0.0  ...           0.0       NaN                  0\n",
              "1    132540.0  76.0     1.0  ...           5.6      0.11                  0\n",
              "2    132541.0  44.0     0.0  ...           0.0      0.04                  0\n",
              "3    132543.0  68.0     1.0  ...           0.0       NaN                  0\n",
              "4    132545.0  88.0     0.0  ...           0.0       NaN                  0\n",
              "\n",
              "[5 rows x 111 columns]"
            ]
          },
          "metadata": {
            "tags": []
          },
          "execution_count": 122
        }
      ]
    },
    {
      "cell_type": "markdown",
      "metadata": {
        "id": "jePFRuTZiNyC"
      },
      "source": [
        "### How many patients have 20 or more missing feature values? \r\n",
        "\r\n",
        "**Explanation:** To get this value, I first checked the basic structure of the dataset and the column names. After that I counted the numbers of missing features for each row and filtered the patient_IDs with missing features equal to or greater than 20. \r\n",
        "\r\n",
        "#### Patient ID's with 20 or more missing values: 210"
      ]
    },
    {
      "cell_type": "code",
      "metadata": {
        "colab": {
          "base_uri": "https://localhost:8080/"
        },
        "id": "xyFHtPo2iNyC",
        "outputId": "6a8e1a91-078d-4def-d924-7e4f934b324e"
      },
      "source": [
        "print(\"Dimension of Dataset:\", hospital_data.shape )\r\n",
        "print(\"Column names:\", hospital_data.columns)\r\n",
        "\r\n",
        "lst = []\r\n",
        "for i in range(0,len(hospital_data.index)):\r\n",
        "  lst.append([i, hospital_data.iloc[i].isnull().sum()])\r\n",
        "\r\n",
        "missingfeature = pd.DataFrame(lst,columns = [\"patient_index\", \"missing_feature_count\"])\r\n",
        "\r\n",
        "missingfeature = missingfeature[missingfeature.missing_feature_count >= 20]\r\n",
        "\r\n",
        "print(\"Patients with 20 or more missing values:\", missingfeature.shape[0])"
      ],
      "execution_count": 123,
      "outputs": [
        {
          "output_type": "stream",
          "text": [
            "Dimension of Dataset: (4000, 111)\n",
            "Column names: Index(['PATIENT_ID', 'Age', 'Gender', 'Height', 'ICUType', 'BUN_Min',\n",
            "       'Creatinine_Min', 'GCS_Min', 'Glucose_Min', 'HCO3_Min',\n",
            "       ...\n",
            "       'Na_Range', 'PaCO2_Range', 'PaO2_Range', 'Platelets_Range',\n",
            "       'Temp_Range', 'Urine_Range', 'WBC_Range', 'Weight_Range', 'pH_Range',\n",
            "       'In-hospital_death'],\n",
            "      dtype='object', length=111)\n",
            "Patients with 20 or more missing values: 210\n"
          ],
          "name": "stdout"
        }
      ]
    },
    {
      "cell_type": "markdown",
      "metadata": {
        "id": "TO30WtReiNyC"
      },
      "source": [
        "### What’s the difference in means of HR_min for patients that died vs survived (not counting patients with HR_min of  0)?\r\n",
        "\r\n",
        "**Explanation**:To calculate this, I first filtered the rows which do not have HR_min = 0. Then I filtered the mean of HR_min for patients who died and patients who survived and took the difference of both the values.\r\n",
        "\r\n",
        "#### Difference in means of HR_min for patients that died vs survived: 1.6746"
      ]
    },
    {
      "cell_type": "code",
      "metadata": {
        "colab": {
          "base_uri": "https://localhost:8080/"
        },
        "id": "iSwLDhJMiNyD",
        "outputId": "3bd9b40d-e379-41c5-af6b-c93d2ba096bb"
      },
      "source": [
        "## Your code here\r\n",
        "hospital_data = hospital_data[hospital_data.HR_Min != 0]\r\n",
        "hospital_data_died = hospital_data[hospital_data[\"In-hospital_death\"] == 1]\r\n",
        "died_mean = hospital_data_died.HR_Min.mean()\r\n",
        "hospital_data_survived = hospital_data[hospital_data[\"In-hospital_death\"] == 0]\r\n",
        "survived_mean = hospital_data_survived.HR_Min.mean()\r\n",
        "print(\"Difference in means of HR_min for patients that died vs survived:\", round((died_mean - survived_mean),4))"
      ],
      "execution_count": 124,
      "outputs": [
        {
          "output_type": "stream",
          "text": [
            "Difference in means of HR_min for patients that died vs survived: 1.6746\n"
          ],
          "name": "stdout"
        }
      ]
    },
    {
      "cell_type": "markdown",
      "metadata": {
        "id": "gupGa2J3iNyD"
      },
      "source": [
        "### What is the median maximum heart rate for patients whose maximum temperature was 2 degrees Celsius higher than their minimum temperature?\r\n",
        "\r\n",
        "**Explanation** : For this Question, I filter the rows with patients with difference in max and min temperature to 2 degree celsius. I then calculated the median of Maximum heart rate.\r\n",
        "\r\n",
        "#### Median maximum heart rate for patients whose maximum temperature was 2 degrees Celsius higher than their minimum temperature: 109.0 "
      ]
    },
    {
      "cell_type": "code",
      "metadata": {
        "colab": {
          "base_uri": "https://localhost:8080/"
        },
        "id": "rYVADkP9iNyD",
        "outputId": "a1fed530-788c-45d9-f59a-83f5b09a90c1"
      },
      "source": [
        "## Your code here\r\n",
        "hospital_data_new= hospital_data[(hospital_data.Temp_Max  - hospital_data.Temp_Min) == 2]\r\n",
        "print(\"Median maximum heart rate for patients whose maximum temperature was 2 degrees \\\r\n",
        "Celsius higher than their minimum temperature:\",hospital_data_new.HR_Max.median())"
      ],
      "execution_count": 125,
      "outputs": [
        {
          "output_type": "stream",
          "text": [
            "Median maximum heart rate for patients whose maximum temperature was 2 degrees Celsius higher than their minimum temperature: 109.0\n"
          ],
          "name": "stdout"
        }
      ]
    },
    {
      "cell_type": "markdown",
      "metadata": {
        "id": "EhWAbPX7iNyE"
      },
      "source": [
        "### Create a plot to analyze the relationship between median temperature, outcome (died vs. survived), and age.\r\n",
        "\r\n",
        "**Explanation:** We can observe that our Age and Temp_Median are both continous variables. I used KBinsDiscretizer to discritize the Age variable into 4 bin. The discretization is done on the quantiled values, which means that each bin has approximately the same number of samples and plotted it with respect to the Temp_median for for survived and dead patients. Here 0 label is for survived patients and 1 is for died patients. We can observe that for all the bins, our distribution of median temperatures for survived case are centered around 37 degree celsius with less variation in survivors as compared to the dead patients. We can also observe that the first two bins have higher variation along with outliers in median temperature as compared to 3rd and the 4th bin."
      ]
    },
    {
      "cell_type": "code",
      "metadata": {
        "colab": {
          "base_uri": "https://localhost:8080/",
          "height": 502
        },
        "id": "Y1O7VrEtroS_",
        "outputId": "dc279210-2474-4e63-d69d-6de356d944c6"
      },
      "source": [
        "from sklearn.preprocessing import KBinsDiscretizer as KD\r\n",
        "plt.figure(figsize=(14,8))\r\n",
        "sns.set_theme(style=\"darkgrid\")\r\n",
        "bin = KD(n_bins=4, encode='ordinal', strategy='quantile')\r\n",
        "transBinned = np.array(hospital_data['Age']).reshape(-1,1)\r\n",
        "bin.fit(transBinned)\r\n",
        "hospital_data['Age'] = bin.transform(transBinned)\r\n",
        "ax = sns.boxplot(x=\"Age\", y=\"Temp_Median\", hue=\"In-hospital_death\",\r\n",
        "                 data=hospital_data, palette=\"Set3\")\r\n"
      ],
      "execution_count": 126,
      "outputs": [
        {
          "output_type": "display_data",
          "data": {
            "image/png": "[encoded data removed]",
            "text/plain": [
              "<Figure size 1008x576 with 1 Axes>"
            ]
          },
          "metadata": {
            "tags": [],
            "needs_background": "light"
          }
        }
      ]
    },
    {
      "cell_type": "markdown",
      "metadata": {
        "id": "-vrr7FbciNyE"
      },
      "source": [
        "### Create a plot to analyze the relationship between median temperature, outcome (died vs. survived), and gender.\r\n",
        "\r\n",
        "**Explanation:** I first checked the unique values in the gender feature and I observed, there were 3 rows with -1 values as gender which is not possible.\r\n",
        "\r\n",
        "- Gender 0: Females\r\n",
        "- Gender 1: Males\r\n",
        "\r\n",
        "Therefore, I dropped those rows with -1 as gender and then plotted the gender with the median temperature keeping In-hospital deaths as hue to check for both the cases. We can observe that for both males and females the mean is same both male and female survivor as well as male and female deid in hospital. From the plot, we are not able to obverse much difference for both males and females in both survived and died-in-hopital case."
      ]
    },
    {
      "cell_type": "code",
      "metadata": {
        "colab": {
          "base_uri": "https://localhost:8080/",
          "height": 502
        },
        "id": "i26d76iYiNyE",
        "outputId": "915a07b9-7e52-472a-c26d-9112d8ff7a1c"
      },
      "source": [
        "## Your code here\r\n",
        "plt.figure(figsize=(16,8))\r\n",
        "hospital_data_gender = hospital_data[hospital_data.Gender != -1]\r\n",
        "ax = sns.boxplot(x=\"Gender\", y=\"Temp_Median\", hue=\"In-hospital_death\",\r\n",
        "                 data=hospital_data_gender, palette=\"Set3\")"
      ],
      "execution_count": 127,
      "outputs": [
        {
          "output_type": "display_data",
          "data": {
            "image/png": "[encoded data removed]",
            "text/plain": [
              "<Figure size 1152x576 with 1 Axes>"
            ]
          },
          "metadata": {
            "tags": []
          }
        }
      ]
    },
    {
      "cell_type": "markdown",
      "metadata": {
        "id": "CxW1gC8liNyF"
      },
      "source": [
        "### Build and summarize the results of a machine learning model that predicts whether a patient dies or survives in the hospital. (We do not expect a perfect or highest-accuracy solution; this is primarily an opportunity for you to show your machine learning project workflow and to document your thought process, approach to solving problems, and interpretation of results.)"
      ]
    },
    {
      "cell_type": "markdown",
      "metadata": {
        "id": "FymGdl4LEngn"
      },
      "source": [
        "##### Checking the datatypes of columns and missing values\r\n",
        "\r\n",
        "**Observation:** We can observe that out of 111 featues 100 features have missing values. All the features are continous."
      ]
    },
    {
      "cell_type": "code",
      "metadata": {
        "colab": {
          "base_uri": "https://localhost:8080/"
        },
        "id": "9EkHj-7Rx9lq",
        "outputId": "6c20cf06-4cac-4eda-e69a-f4771a3ea609"
      },
      "source": [
        "#checking datatype\r\n",
        "hospital_data.dtypes.unique()"
      ],
      "execution_count": 128,
      "outputs": [
        {
          "output_type": "execute_result",
          "data": {
            "text/plain": [
              "array([dtype('float64'), dtype('int64')], dtype=object)"
            ]
          },
          "metadata": {
            "tags": []
          },
          "execution_count": 128
        }
      ]
    },
    {
      "cell_type": "code",
      "metadata": {
        "colab": {
          "base_uri": "https://localhost:8080/",
          "height": 402
        },
        "id": "z33jaLj0yopR",
        "outputId": "e062eb35-4019-491b-d6b6-a87834ab537b"
      },
      "source": [
        "#checking missing value counts\r\n",
        "missing_values = []\r\n",
        "missing_values = [[feature,hospital_data[feature].isnull().sum(), np.round(hospital_data[feature].isnull().mean()*100,4)] for feature in hospital_data]\r\n",
        "df = pd.DataFrame(missing_values, columns=[\"Features\", \"Count\",\"Missing_value_percent\"])\r\n",
        "df = df[df.Count >0]\r\n",
        "df"
      ],
      "execution_count": 129,
      "outputs": [
        {
          "output_type": "execute_result",
          "data": {
            "text/html": [
              "<div>\n",
              "<style scoped>\n",
              "    .dataframe tbody tr th:only-of-type {\n",
              "        vertical-align: middle;\n",
              "    }\n",
              "\n",
              "    .dataframe tbody tr th {\n",
              "        vertical-align: top;\n",
              "    }\n",
              "\n",
              "    .dataframe thead th {\n",
              "        text-align: right;\n",
              "    }\n",
              "</style>\n",
              "<table border=\"1\" class=\"dataframe\">\n",
              "  <thead>\n",
              "    <tr style=\"text-align: right;\">\n",
              "      <th></th>\n",
              "      <th>Features</th>\n",
              "      <th>Count</th>\n",
              "      <th>Missing_value_percent</th>\n",
              "    </tr>\n",
              "  </thead>\n",
              "  <tbody>\n",
              "    <tr>\n",
              "      <th>5</th>\n",
              "      <td>BUN_Min</td>\n",
              "      <td>64</td>\n",
              "      <td>1.6044</td>\n",
              "    </tr>\n",
              "    <tr>\n",
              "      <th>6</th>\n",
              "      <td>Creatinine_Min</td>\n",
              "      <td>64</td>\n",
              "      <td>1.6044</td>\n",
              "    </tr>\n",
              "    <tr>\n",
              "      <th>7</th>\n",
              "      <td>GCS_Min</td>\n",
              "      <td>64</td>\n",
              "      <td>1.6044</td>\n",
              "    </tr>\n",
              "    <tr>\n",
              "      <th>8</th>\n",
              "      <td>Glucose_Min</td>\n",
              "      <td>113</td>\n",
              "      <td>2.8328</td>\n",
              "    </tr>\n",
              "    <tr>\n",
              "      <th>9</th>\n",
              "      <td>HCO3_Min</td>\n",
              "      <td>76</td>\n",
              "      <td>1.9052</td>\n",
              "    </tr>\n",
              "    <tr>\n",
              "      <th>...</th>\n",
              "      <td>...</td>\n",
              "      <td>...</td>\n",
              "      <td>...</td>\n",
              "    </tr>\n",
              "    <tr>\n",
              "      <th>104</th>\n",
              "      <td>Platelets_Range</td>\n",
              "      <td>68</td>\n",
              "      <td>1.7047</td>\n",
              "    </tr>\n",
              "    <tr>\n",
              "      <th>105</th>\n",
              "      <td>Temp_Range</td>\n",
              "      <td>64</td>\n",
              "      <td>1.6044</td>\n",
              "    </tr>\n",
              "    <tr>\n",
              "      <th>106</th>\n",
              "      <td>Urine_Range</td>\n",
              "      <td>117</td>\n",
              "      <td>2.9331</td>\n",
              "    </tr>\n",
              "    <tr>\n",
              "      <th>107</th>\n",
              "      <td>WBC_Range</td>\n",
              "      <td>73</td>\n",
              "      <td>1.8300</td>\n",
              "    </tr>\n",
              "    <tr>\n",
              "      <th>109</th>\n",
              "      <td>pH_Range</td>\n",
              "      <td>960</td>\n",
              "      <td>24.0662</td>\n",
              "    </tr>\n",
              "  </tbody>\n",
              "</table>\n",
              "<p>100 rows × 3 columns</p>\n",
              "</div>"
            ],
            "text/plain": [
              "            Features  Count  Missing_value_percent\n",
              "5            BUN_Min     64                 1.6044\n",
              "6     Creatinine_Min     64                 1.6044\n",
              "7            GCS_Min     64                 1.6044\n",
              "8        Glucose_Min    113                 2.8328\n",
              "9           HCO3_Min     76                 1.9052\n",
              "..               ...    ...                    ...\n",
              "104  Platelets_Range     68                 1.7047\n",
              "105       Temp_Range     64                 1.6044\n",
              "106      Urine_Range    117                 2.9331\n",
              "107        WBC_Range     73                 1.8300\n",
              "109         pH_Range    960                24.0662\n",
              "\n",
              "[100 rows x 3 columns]"
            ]
          },
          "metadata": {
            "tags": []
          },
          "execution_count": 129
        }
      ]
    },
    {
      "cell_type": "code",
      "metadata": {
        "colab": {
          "base_uri": "https://localhost:8080/"
        },
        "id": "HdHyOkXRiNyF",
        "outputId": "9702dc21-8595-4409-a6d9-c7545f28ca03"
      },
      "source": [
        "#Count of unique values in the categorical features\r\n",
        "summarystats_categorical_feat = []\r\n",
        "categorical_feature = [feature for feature in hospital_data.columns if hospital_data[feature].dtype == 'O']\r\n",
        "summarystats_categorical_feat = [[feature, len(hospital_data[feature].unique())] for feature in categorical_feature]\r\n",
        "df = pd.DataFrame(summarystats_categorical_feat, columns=[\"Features\", \"Unique Categories\"])\r\n",
        "df.shape[0]"
      ],
      "execution_count": 130,
      "outputs": [
        {
          "output_type": "execute_result",
          "data": {
            "text/plain": [
              "0"
            ]
          },
          "metadata": {
            "tags": []
          },
          "execution_count": 130
        }
      ]
    },
    {
      "cell_type": "markdown",
      "metadata": {
        "id": "aoVmB7zmFQ17"
      },
      "source": [
        "##### **Handling missing values**\r\n",
        "\r\n",
        "In our dataset the missing values present are less than 30% in all the features with missing values. In this case imputing missing values with mean or median is the best option on the basis of the distribution of the data. Since most features has normal distribution, I am using mean to impute the missing values."
      ]
    },
    {
      "cell_type": "code",
      "metadata": {
        "id": "n0IzyNFtV6ci"
      },
      "source": [
        "#Imputing missing data with mean\r\n",
        "hospital_data=hospital_data.fillna(hospital_data.mean())"
      ],
      "execution_count": 131,
      "outputs": []
    },
    {
      "cell_type": "markdown",
      "metadata": {
        "id": "Sw_4VuO8GMdh"
      },
      "source": [
        "##### **Handling unrealistic data**\r\n",
        "\r\n",
        "We can observe from the describe funtion that few of the featues have negative values too which is not possible in a lot of cases. Next, I checked the featues with negative values to identify the realisticness of the data or to impute those data points with relevant data.\r\n",
        "\r\n",
        "I found that 'Gender', 'Height','Temp_Min','Weight_Min','Weight_Max','Weight_Mean','Weight_Median' have negative values. I performed the following imputions:\r\n",
        "\r\n",
        "**Gender:** I imputed the Gender values having -1 with higher mode which is for label 1.\r\n",
        "\r\n",
        "**Height:** We can observe that we have few rows with negative height (-1) which is not possible. I imputed the height with th mean value.\r\n",
        "\r\n",
        "**Min temp:** We can observe that we have min temperatues [-17.8 -12.5]. For dead patient case negative temperature could be possible but it is not possible for the survived patients. I imputed survived patient's temperature (-12.5) with mean min temperature.\r\n",
        "\r\n",
        "**Weight Min:** We can observe that negative min weight is -1 which is not possible so I replaced the values with mean value.\r\n",
        "\r\n",
        "**Weight Max:** We can observe that negative max weight is -1 which is not possible so I replaced the values with mean value.\r\n",
        "\r\n",
        "**Weight Mean:** We can observe that negative mean weight is -1 which is not possible so I replaced the values with mean value.\r\n",
        "\r\n",
        "**Weight Max:** We can observe that negative median weight is -1 which is not possible so I replaced the values with mean value."
      ]
    },
    {
      "cell_type": "code",
      "metadata": {
        "colab": {
          "base_uri": "https://localhost:8080/",
          "height": 350
        },
        "id": "2nSCU39wFpiF",
        "outputId": "8b9e7236-1bd1-41c8-b505-7ecdecbd66ca"
      },
      "source": [
        "#Description of dataset\r\n",
        "hospital_data.describe()"
      ],
      "execution_count": 132,
      "outputs": [
        {
          "output_type": "execute_result",
          "data": {
            "text/html": [
              "<div>\n",
              "<style scoped>\n",
              "    .dataframe tbody tr th:only-of-type {\n",
              "        vertical-align: middle;\n",
              "    }\n",
              "\n",
              "    .dataframe tbody tr th {\n",
              "        vertical-align: top;\n",
              "    }\n",
              "\n",
              "    .dataframe thead th {\n",
              "        text-align: right;\n",
              "    }\n",
              "</style>\n",
              "<table border=\"1\" class=\"dataframe\">\n",
              "  <thead>\n",
              "    <tr style=\"text-align: right;\">\n",
              "      <th></th>\n",
              "      <th>PATIENT_ID</th>\n",
              "      <th>Age</th>\n",
              "      <th>Gender</th>\n",
              "      <th>Height</th>\n",
              "      <th>ICUType</th>\n",
              "      <th>BUN_Min</th>\n",
              "      <th>Creatinine_Min</th>\n",
              "      <th>GCS_Min</th>\n",
              "      <th>Glucose_Min</th>\n",
              "      <th>HCO3_Min</th>\n",
              "      <th>HCT_Min</th>\n",
              "      <th>HR_Min</th>\n",
              "      <th>K_Min</th>\n",
              "      <th>Mg_Min</th>\n",
              "      <th>NIDiasABP_Min</th>\n",
              "      <th>NIMAP_Min</th>\n",
              "      <th>NISysABP_Min</th>\n",
              "      <th>Na_Min</th>\n",
              "      <th>PaCO2_Min</th>\n",
              "      <th>PaO2_Min</th>\n",
              "      <th>Platelets_Min</th>\n",
              "      <th>Temp_Min</th>\n",
              "      <th>Urine_Min</th>\n",
              "      <th>WBC_Min</th>\n",
              "      <th>Weight_Min</th>\n",
              "      <th>pH_Min</th>\n",
              "      <th>BUN_Max</th>\n",
              "      <th>Creatinine_Max</th>\n",
              "      <th>GCS_Max</th>\n",
              "      <th>Glucose_Max</th>\n",
              "      <th>HCO3_Max</th>\n",
              "      <th>HCT_Max</th>\n",
              "      <th>HR_Max</th>\n",
              "      <th>K_Max</th>\n",
              "      <th>Mg_Max</th>\n",
              "      <th>NIDiasABP_Max</th>\n",
              "      <th>NIMAP_Max</th>\n",
              "      <th>NISysABP_Max</th>\n",
              "      <th>Na_Max</th>\n",
              "      <th>PaCO2_Max</th>\n",
              "      <th>...</th>\n",
              "      <th>Glucose_Median</th>\n",
              "      <th>HCO3_Median</th>\n",
              "      <th>HCT_Median</th>\n",
              "      <th>HR_Median</th>\n",
              "      <th>K_Median</th>\n",
              "      <th>Mg_Median</th>\n",
              "      <th>NIDiasABP_Median</th>\n",
              "      <th>NIMAP_Median</th>\n",
              "      <th>NISysABP_Median</th>\n",
              "      <th>Na_Median</th>\n",
              "      <th>PaCO2_Median</th>\n",
              "      <th>PaO2_Median</th>\n",
              "      <th>Platelets_Median</th>\n",
              "      <th>Temp_Median</th>\n",
              "      <th>Urine_Median</th>\n",
              "      <th>WBC_Median</th>\n",
              "      <th>Weight_Median</th>\n",
              "      <th>pH_Median</th>\n",
              "      <th>BUN_Range</th>\n",
              "      <th>Creatinine_Range</th>\n",
              "      <th>GCS_Range</th>\n",
              "      <th>Glucose_Range</th>\n",
              "      <th>HCO3_Range</th>\n",
              "      <th>HCT_Range</th>\n",
              "      <th>HR_Range</th>\n",
              "      <th>K_Range</th>\n",
              "      <th>Mg_Range</th>\n",
              "      <th>NIDiasABP_Range</th>\n",
              "      <th>NIMAP_Range</th>\n",
              "      <th>NISysABP_Range</th>\n",
              "      <th>Na_Range</th>\n",
              "      <th>PaCO2_Range</th>\n",
              "      <th>PaO2_Range</th>\n",
              "      <th>Platelets_Range</th>\n",
              "      <th>Temp_Range</th>\n",
              "      <th>Urine_Range</th>\n",
              "      <th>WBC_Range</th>\n",
              "      <th>Weight_Range</th>\n",
              "      <th>pH_Range</th>\n",
              "      <th>In-hospital_death</th>\n",
              "    </tr>\n",
              "  </thead>\n",
              "  <tbody>\n",
              "    <tr>\n",
              "      <th>count</th>\n",
              "      <td>3989.000000</td>\n",
              "      <td>3989.000000</td>\n",
              "      <td>3989.000000</td>\n",
              "      <td>3989.00000</td>\n",
              "      <td>3989.000000</td>\n",
              "      <td>3989.000000</td>\n",
              "      <td>3989.000000</td>\n",
              "      <td>3989.000000</td>\n",
              "      <td>3989.000000</td>\n",
              "      <td>3989.000000</td>\n",
              "      <td>3989.000000</td>\n",
              "      <td>3989.000000</td>\n",
              "      <td>3989.000000</td>\n",
              "      <td>3989.000000</td>\n",
              "      <td>3989.000000</td>\n",
              "      <td>3989.000000</td>\n",
              "      <td>3989.000000</td>\n",
              "      <td>3989.000000</td>\n",
              "      <td>3989.000000</td>\n",
              "      <td>3989.000000</td>\n",
              "      <td>3989.000000</td>\n",
              "      <td>3989.00000</td>\n",
              "      <td>3989.000000</td>\n",
              "      <td>3989.000000</td>\n",
              "      <td>3989.000000</td>\n",
              "      <td>3989.000000</td>\n",
              "      <td>3989.000000</td>\n",
              "      <td>3989.000000</td>\n",
              "      <td>3989.000000</td>\n",
              "      <td>3989.000000</td>\n",
              "      <td>3989.000000</td>\n",
              "      <td>3989.000000</td>\n",
              "      <td>3989.000000</td>\n",
              "      <td>3989.000000</td>\n",
              "      <td>3989.000000</td>\n",
              "      <td>3989.000000</td>\n",
              "      <td>3989.000000</td>\n",
              "      <td>3989.000000</td>\n",
              "      <td>3989.000000</td>\n",
              "      <td>3989.000000</td>\n",
              "      <td>...</td>\n",
              "      <td>3989.000000</td>\n",
              "      <td>3989.000000</td>\n",
              "      <td>3989.000000</td>\n",
              "      <td>3989.000000</td>\n",
              "      <td>3989.000000</td>\n",
              "      <td>3989.000000</td>\n",
              "      <td>3989.00000</td>\n",
              "      <td>3989.000000</td>\n",
              "      <td>3989.000000</td>\n",
              "      <td>3989.000000</td>\n",
              "      <td>3989.000000</td>\n",
              "      <td>3989.000000</td>\n",
              "      <td>3989.000000</td>\n",
              "      <td>3989.000000</td>\n",
              "      <td>3989.000000</td>\n",
              "      <td>3989.000000</td>\n",
              "      <td>3989.000000</td>\n",
              "      <td>3989.000000</td>\n",
              "      <td>3989.000000</td>\n",
              "      <td>3989.000000</td>\n",
              "      <td>3989.000000</td>\n",
              "      <td>3989.000000</td>\n",
              "      <td>3989.000000</td>\n",
              "      <td>3989.000000</td>\n",
              "      <td>3989.000000</td>\n",
              "      <td>3989.000000</td>\n",
              "      <td>3989.000000</td>\n",
              "      <td>3989.000000</td>\n",
              "      <td>3989.00000</td>\n",
              "      <td>3989.000000</td>\n",
              "      <td>3989.000000</td>\n",
              "      <td>3989.000000</td>\n",
              "      <td>3989.000000</td>\n",
              "      <td>3989.000000</td>\n",
              "      <td>3989.000000</td>\n",
              "      <td>3989.000000</td>\n",
              "      <td>3989.000000</td>\n",
              "      <td>3989.000000</td>\n",
              "      <td>3989.000000</td>\n",
              "      <td>3989.000000</td>\n",
              "    </tr>\n",
              "    <tr>\n",
              "      <th>mean</th>\n",
              "      <td>137609.115066</td>\n",
              "      <td>1.542241</td>\n",
              "      <td>0.561043</td>\n",
              "      <td>88.92018</td>\n",
              "      <td>2.759338</td>\n",
              "      <td>21.922548</td>\n",
              "      <td>1.183465</td>\n",
              "      <td>8.224968</td>\n",
              "      <td>108.574045</td>\n",
              "      <td>21.853974</td>\n",
              "      <td>28.634854</td>\n",
              "      <td>68.680362</td>\n",
              "      <td>3.759363</td>\n",
              "      <td>1.788394</td>\n",
              "      <td>39.872481</td>\n",
              "      <td>59.080055</td>\n",
              "      <td>90.485362</td>\n",
              "      <td>136.918242</td>\n",
              "      <td>34.587417</td>\n",
              "      <td>92.294977</td>\n",
              "      <td>179.500128</td>\n",
              "      <td>35.03358</td>\n",
              "      <td>24.229933</td>\n",
              "      <td>10.366530</td>\n",
              "      <td>74.184796</td>\n",
              "      <td>7.369967</td>\n",
              "      <td>29.302420</td>\n",
              "      <td>1.559924</td>\n",
              "      <td>13.535796</td>\n",
              "      <td>173.395769</td>\n",
              "      <td>25.434449</td>\n",
              "      <td>34.149936</td>\n",
              "      <td>112.473816</td>\n",
              "      <td>4.559183</td>\n",
              "      <td>2.256897</td>\n",
              "      <td>79.287853</td>\n",
              "      <td>96.721624</td>\n",
              "      <td>143.804535</td>\n",
              "      <td>140.722024</td>\n",
              "      <td>47.500996</td>\n",
              "      <td>...</td>\n",
              "      <td>133.431244</td>\n",
              "      <td>23.667263</td>\n",
              "      <td>31.461159</td>\n",
              "      <td>86.404865</td>\n",
              "      <td>4.113768</td>\n",
              "      <td>2.014861</td>\n",
              "      <td>56.74266</td>\n",
              "      <td>75.866802</td>\n",
              "      <td>117.186711</td>\n",
              "      <td>138.896270</td>\n",
              "      <td>40.088147</td>\n",
              "      <td>133.980910</td>\n",
              "      <td>204.122928</td>\n",
              "      <td>37.053834</td>\n",
              "      <td>102.197701</td>\n",
              "      <td>12.425066</td>\n",
              "      <td>76.907837</td>\n",
              "      <td>7.456905</td>\n",
              "      <td>7.379873</td>\n",
              "      <td>0.376459</td>\n",
              "      <td>5.310828</td>\n",
              "      <td>64.821723</td>\n",
              "      <td>3.580475</td>\n",
              "      <td>5.515083</td>\n",
              "      <td>43.793454</td>\n",
              "      <td>0.799820</td>\n",
              "      <td>0.468502</td>\n",
              "      <td>39.415371</td>\n",
              "      <td>37.64157</td>\n",
              "      <td>53.319173</td>\n",
              "      <td>3.803781</td>\n",
              "      <td>12.913579</td>\n",
              "      <td>157.473948</td>\n",
              "      <td>54.586075</td>\n",
              "      <td>2.895389</td>\n",
              "      <td>587.043311</td>\n",
              "      <td>4.585074</td>\n",
              "      <td>3.602700</td>\n",
              "      <td>0.726180</td>\n",
              "      <td>0.137378</td>\n",
              "    </tr>\n",
              "    <tr>\n",
              "      <th>std</th>\n",
              "      <td>2923.895346</td>\n",
              "      <td>1.123976</td>\n",
              "      <td>0.497835</td>\n",
              "      <td>86.54287</td>\n",
              "      <td>1.002625</td>\n",
              "      <td>18.540452</td>\n",
              "      <td>1.199375</td>\n",
              "      <td>4.765314</td>\n",
              "      <td>29.430194</td>\n",
              "      <td>4.477530</td>\n",
              "      <td>5.310748</td>\n",
              "      <td>13.938818</td>\n",
              "      <td>0.510529</td>\n",
              "      <td>0.337027</td>\n",
              "      <td>13.192869</td>\n",
              "      <td>13.451419</td>\n",
              "      <td>25.364703</td>\n",
              "      <td>4.379211</td>\n",
              "      <td>6.807744</td>\n",
              "      <td>37.012591</td>\n",
              "      <td>98.396839</td>\n",
              "      <td>5.94393</td>\n",
              "      <td>47.583314</td>\n",
              "      <td>5.506778</td>\n",
              "      <td>31.859429</td>\n",
              "      <td>1.945997</td>\n",
              "      <td>23.041936</td>\n",
              "      <td>1.640506</td>\n",
              "      <td>2.566968</td>\n",
              "      <td>86.288820</td>\n",
              "      <td>4.036737</td>\n",
              "      <td>4.757522</td>\n",
              "      <td>22.181206</td>\n",
              "      <td>0.816324</td>\n",
              "      <td>0.421724</td>\n",
              "      <td>18.055763</td>\n",
              "      <td>17.705781</td>\n",
              "      <td>25.372718</td>\n",
              "      <td>4.387955</td>\n",
              "      <td>9.686472</td>\n",
              "      <td>...</td>\n",
              "      <td>37.271578</td>\n",
              "      <td>4.087949</td>\n",
              "      <td>4.528674</td>\n",
              "      <td>14.883055</td>\n",
              "      <td>0.479565</td>\n",
              "      <td>0.306791</td>\n",
              "      <td>11.32873</td>\n",
              "      <td>11.674636</td>\n",
              "      <td>18.783060</td>\n",
              "      <td>4.116118</td>\n",
              "      <td>6.788831</td>\n",
              "      <td>47.864885</td>\n",
              "      <td>102.745625</td>\n",
              "      <td>0.593803</td>\n",
              "      <td>115.882611</td>\n",
              "      <td>6.559862</td>\n",
              "      <td>32.094083</td>\n",
              "      <td>2.070182</td>\n",
              "      <td>8.490460</td>\n",
              "      <td>0.630853</td>\n",
              "      <td>4.373394</td>\n",
              "      <td>86.180797</td>\n",
              "      <td>2.741864</td>\n",
              "      <td>3.993169</td>\n",
              "      <td>20.457798</td>\n",
              "      <td>0.793525</td>\n",
              "      <td>0.419421</td>\n",
              "      <td>21.550619</td>\n",
              "      <td>20.37715</td>\n",
              "      <td>31.601523</td>\n",
              "      <td>3.232363</td>\n",
              "      <td>8.702139</td>\n",
              "      <td>105.091520</td>\n",
              "      <td>48.354729</td>\n",
              "      <td>5.973654</td>\n",
              "      <td>574.462265</td>\n",
              "      <td>4.853197</td>\n",
              "      <td>10.983307</td>\n",
              "      <td>16.633622</td>\n",
              "      <td>0.344289</td>\n",
              "    </tr>\n",
              "    <tr>\n",
              "      <th>min</th>\n",
              "      <td>132539.000000</td>\n",
              "      <td>0.000000</td>\n",
              "      <td>-1.000000</td>\n",
              "      <td>-1.00000</td>\n",
              "      <td>1.000000</td>\n",
              "      <td>0.000000</td>\n",
              "      <td>0.100000</td>\n",
              "      <td>3.000000</td>\n",
              "      <td>10.000000</td>\n",
              "      <td>5.000000</td>\n",
              "      <td>9.000000</td>\n",
              "      <td>3.500000</td>\n",
              "      <td>1.800000</td>\n",
              "      <td>0.600000</td>\n",
              "      <td>0.000000</td>\n",
              "      <td>0.000000</td>\n",
              "      <td>0.000000</td>\n",
              "      <td>98.000000</td>\n",
              "      <td>0.300000</td>\n",
              "      <td>0.000000</td>\n",
              "      <td>6.000000</td>\n",
              "      <td>-17.80000</td>\n",
              "      <td>0.000000</td>\n",
              "      <td>0.100000</td>\n",
              "      <td>-1.000000</td>\n",
              "      <td>1.000000</td>\n",
              "      <td>3.000000</td>\n",
              "      <td>0.200000</td>\n",
              "      <td>3.000000</td>\n",
              "      <td>60.000000</td>\n",
              "      <td>11.000000</td>\n",
              "      <td>18.600000</td>\n",
              "      <td>53.000000</td>\n",
              "      <td>2.500000</td>\n",
              "      <td>1.100000</td>\n",
              "      <td>0.000000</td>\n",
              "      <td>0.000000</td>\n",
              "      <td>0.000000</td>\n",
              "      <td>119.000000</td>\n",
              "      <td>16.000000</td>\n",
              "      <td>...</td>\n",
              "      <td>49.000000</td>\n",
              "      <td>8.000000</td>\n",
              "      <td>14.800000</td>\n",
              "      <td>40.000000</td>\n",
              "      <td>2.500000</td>\n",
              "      <td>1.100000</td>\n",
              "      <td>0.00000</td>\n",
              "      <td>0.000000</td>\n",
              "      <td>0.000000</td>\n",
              "      <td>111.500000</td>\n",
              "      <td>14.000000</td>\n",
              "      <td>26.000000</td>\n",
              "      <td>11.500000</td>\n",
              "      <td>33.400000</td>\n",
              "      <td>0.000000</td>\n",
              "      <td>0.100000</td>\n",
              "      <td>-1.000000</td>\n",
              "      <td>7.105000</td>\n",
              "      <td>0.000000</td>\n",
              "      <td>0.000000</td>\n",
              "      <td>0.000000</td>\n",
              "      <td>0.000000</td>\n",
              "      <td>0.000000</td>\n",
              "      <td>0.000000</td>\n",
              "      <td>0.000000</td>\n",
              "      <td>0.000000</td>\n",
              "      <td>0.000000</td>\n",
              "      <td>0.000000</td>\n",
              "      <td>0.00000</td>\n",
              "      <td>0.000000</td>\n",
              "      <td>0.000000</td>\n",
              "      <td>0.000000</td>\n",
              "      <td>0.000000</td>\n",
              "      <td>0.000000</td>\n",
              "      <td>0.000000</td>\n",
              "      <td>0.000000</td>\n",
              "      <td>0.000000</td>\n",
              "      <td>0.000000</td>\n",
              "      <td>0.000000</td>\n",
              "      <td>0.000000</td>\n",
              "    </tr>\n",
              "    <tr>\n",
              "      <th>25%</th>\n",
              "      <td>135077.000000</td>\n",
              "      <td>1.000000</td>\n",
              "      <td>0.000000</td>\n",
              "      <td>-1.00000</td>\n",
              "      <td>2.000000</td>\n",
              "      <td>11.000000</td>\n",
              "      <td>0.600000</td>\n",
              "      <td>3.000000</td>\n",
              "      <td>91.000000</td>\n",
              "      <td>19.000000</td>\n",
              "      <td>25.000000</td>\n",
              "      <td>60.000000</td>\n",
              "      <td>3.400000</td>\n",
              "      <td>1.600000</td>\n",
              "      <td>33.000000</td>\n",
              "      <td>52.000000</td>\n",
              "      <td>82.000000</td>\n",
              "      <td>135.000000</td>\n",
              "      <td>31.000000</td>\n",
              "      <td>72.000000</td>\n",
              "      <td>115.000000</td>\n",
              "      <td>35.40000</td>\n",
              "      <td>0.000000</td>\n",
              "      <td>7.300000</td>\n",
              "      <td>61.500000</td>\n",
              "      <td>7.290000</td>\n",
              "      <td>15.000000</td>\n",
              "      <td>0.800000</td>\n",
              "      <td>13.000000</td>\n",
              "      <td>127.000000</td>\n",
              "      <td>23.000000</td>\n",
              "      <td>30.800000</td>\n",
              "      <td>97.000000</td>\n",
              "      <td>4.100000</td>\n",
              "      <td>2.000000</td>\n",
              "      <td>68.000000</td>\n",
              "      <td>85.670000</td>\n",
              "      <td>129.000000</td>\n",
              "      <td>138.000000</td>\n",
              "      <td>42.000000</td>\n",
              "      <td>...</td>\n",
              "      <td>110.000000</td>\n",
              "      <td>21.000000</td>\n",
              "      <td>28.350000</td>\n",
              "      <td>76.000000</td>\n",
              "      <td>3.800000</td>\n",
              "      <td>1.800000</td>\n",
              "      <td>50.00000</td>\n",
              "      <td>68.330000</td>\n",
              "      <td>105.000000</td>\n",
              "      <td>136.500000</td>\n",
              "      <td>37.000000</td>\n",
              "      <td>104.000000</td>\n",
              "      <td>135.000000</td>\n",
              "      <td>36.700000</td>\n",
              "      <td>47.500000</td>\n",
              "      <td>8.800000</td>\n",
              "      <td>63.400000</td>\n",
              "      <td>7.365000</td>\n",
              "      <td>3.000000</td>\n",
              "      <td>0.100000</td>\n",
              "      <td>1.000000</td>\n",
              "      <td>18.000000</td>\n",
              "      <td>2.000000</td>\n",
              "      <td>2.600000</td>\n",
              "      <td>30.000000</td>\n",
              "      <td>0.400000</td>\n",
              "      <td>0.200000</td>\n",
              "      <td>26.000000</td>\n",
              "      <td>26.00000</td>\n",
              "      <td>35.000000</td>\n",
              "      <td>2.000000</td>\n",
              "      <td>8.000000</td>\n",
              "      <td>74.000000</td>\n",
              "      <td>21.000000</td>\n",
              "      <td>1.400000</td>\n",
              "      <td>270.000000</td>\n",
              "      <td>1.600000</td>\n",
              "      <td>0.000000</td>\n",
              "      <td>0.070000</td>\n",
              "      <td>0.000000</td>\n",
              "    </tr>\n",
              "    <tr>\n",
              "      <th>50%</th>\n",
              "      <td>137594.000000</td>\n",
              "      <td>2.000000</td>\n",
              "      <td>1.000000</td>\n",
              "      <td>152.40000</td>\n",
              "      <td>3.000000</td>\n",
              "      <td>16.000000</td>\n",
              "      <td>0.800000</td>\n",
              "      <td>7.000000</td>\n",
              "      <td>107.000000</td>\n",
              "      <td>22.000000</td>\n",
              "      <td>28.100000</td>\n",
              "      <td>68.000000</td>\n",
              "      <td>3.700000</td>\n",
              "      <td>1.800000</td>\n",
              "      <td>39.872481</td>\n",
              "      <td>59.080055</td>\n",
              "      <td>90.485362</td>\n",
              "      <td>137.000000</td>\n",
              "      <td>34.587417</td>\n",
              "      <td>92.294977</td>\n",
              "      <td>163.000000</td>\n",
              "      <td>35.90000</td>\n",
              "      <td>14.000000</td>\n",
              "      <td>9.600000</td>\n",
              "      <td>75.900000</td>\n",
              "      <td>7.360000</td>\n",
              "      <td>22.000000</td>\n",
              "      <td>1.000000</td>\n",
              "      <td>15.000000</td>\n",
              "      <td>152.000000</td>\n",
              "      <td>25.000000</td>\n",
              "      <td>33.600000</td>\n",
              "      <td>111.000000</td>\n",
              "      <td>4.400000</td>\n",
              "      <td>2.200000</td>\n",
              "      <td>79.287853</td>\n",
              "      <td>96.721624</td>\n",
              "      <td>143.804535</td>\n",
              "      <td>140.722024</td>\n",
              "      <td>47.500996</td>\n",
              "      <td>...</td>\n",
              "      <td>128.000000</td>\n",
              "      <td>24.000000</td>\n",
              "      <td>30.850000</td>\n",
              "      <td>86.000000</td>\n",
              "      <td>4.100000</td>\n",
              "      <td>2.000000</td>\n",
              "      <td>56.74266</td>\n",
              "      <td>75.866802</td>\n",
              "      <td>117.186711</td>\n",
              "      <td>139.000000</td>\n",
              "      <td>40.088147</td>\n",
              "      <td>133.980910</td>\n",
              "      <td>188.000000</td>\n",
              "      <td>37.053834</td>\n",
              "      <td>80.000000</td>\n",
              "      <td>11.500000</td>\n",
              "      <td>78.400000</td>\n",
              "      <td>7.410000</td>\n",
              "      <td>5.000000</td>\n",
              "      <td>0.200000</td>\n",
              "      <td>5.000000</td>\n",
              "      <td>42.000000</td>\n",
              "      <td>3.000000</td>\n",
              "      <td>4.800000</td>\n",
              "      <td>40.000000</td>\n",
              "      <td>0.600000</td>\n",
              "      <td>0.400000</td>\n",
              "      <td>39.415371</td>\n",
              "      <td>37.64157</td>\n",
              "      <td>53.000000</td>\n",
              "      <td>3.000000</td>\n",
              "      <td>12.913579</td>\n",
              "      <td>157.473948</td>\n",
              "      <td>43.000000</td>\n",
              "      <td>1.900000</td>\n",
              "      <td>440.000000</td>\n",
              "      <td>3.500000</td>\n",
              "      <td>0.000000</td>\n",
              "      <td>0.150000</td>\n",
              "      <td>0.000000</td>\n",
              "    </tr>\n",
              "    <tr>\n",
              "      <th>75%</th>\n",
              "      <td>140102.000000</td>\n",
              "      <td>3.000000</td>\n",
              "      <td>1.000000</td>\n",
              "      <td>170.20000</td>\n",
              "      <td>4.000000</td>\n",
              "      <td>26.000000</td>\n",
              "      <td>1.200000</td>\n",
              "      <td>14.000000</td>\n",
              "      <td>123.000000</td>\n",
              "      <td>24.000000</td>\n",
              "      <td>31.900000</td>\n",
              "      <td>77.000000</td>\n",
              "      <td>4.100000</td>\n",
              "      <td>2.000000</td>\n",
              "      <td>47.000000</td>\n",
              "      <td>65.670000</td>\n",
              "      <td>102.000000</td>\n",
              "      <td>140.000000</td>\n",
              "      <td>36.000000</td>\n",
              "      <td>95.000000</td>\n",
              "      <td>222.000000</td>\n",
              "      <td>36.40000</td>\n",
              "      <td>30.000000</td>\n",
              "      <td>12.500000</td>\n",
              "      <td>90.100000</td>\n",
              "      <td>7.369967</td>\n",
              "      <td>35.000000</td>\n",
              "      <td>1.559924</td>\n",
              "      <td>15.000000</td>\n",
              "      <td>189.000000</td>\n",
              "      <td>28.000000</td>\n",
              "      <td>37.000000</td>\n",
              "      <td>125.000000</td>\n",
              "      <td>4.800000</td>\n",
              "      <td>2.400000</td>\n",
              "      <td>89.000000</td>\n",
              "      <td>105.700000</td>\n",
              "      <td>157.000000</td>\n",
              "      <td>143.000000</td>\n",
              "      <td>50.000000</td>\n",
              "      <td>...</td>\n",
              "      <td>148.000000</td>\n",
              "      <td>26.000000</td>\n",
              "      <td>34.050000</td>\n",
              "      <td>96.000000</td>\n",
              "      <td>4.400000</td>\n",
              "      <td>2.150000</td>\n",
              "      <td>62.50000</td>\n",
              "      <td>81.335000</td>\n",
              "      <td>127.000000</td>\n",
              "      <td>141.000000</td>\n",
              "      <td>42.000000</td>\n",
              "      <td>144.000000</td>\n",
              "      <td>247.000000</td>\n",
              "      <td>37.400000</td>\n",
              "      <td>115.000000</td>\n",
              "      <td>14.900000</td>\n",
              "      <td>93.300000</td>\n",
              "      <td>7.456905</td>\n",
              "      <td>9.000000</td>\n",
              "      <td>0.400000</td>\n",
              "      <td>9.000000</td>\n",
              "      <td>77.000000</td>\n",
              "      <td>5.000000</td>\n",
              "      <td>7.500000</td>\n",
              "      <td>52.000000</td>\n",
              "      <td>1.000000</td>\n",
              "      <td>0.700000</td>\n",
              "      <td>50.000000</td>\n",
              "      <td>46.67000</td>\n",
              "      <td>64.000000</td>\n",
              "      <td>5.000000</td>\n",
              "      <td>16.000000</td>\n",
              "      <td>221.000000</td>\n",
              "      <td>73.000000</td>\n",
              "      <td>2.600000</td>\n",
              "      <td>690.000000</td>\n",
              "      <td>6.000000</td>\n",
              "      <td>3.200000</td>\n",
              "      <td>0.420000</td>\n",
              "      <td>0.000000</td>\n",
              "    </tr>\n",
              "    <tr>\n",
              "      <th>max</th>\n",
              "      <td>142673.000000</td>\n",
              "      <td>3.000000</td>\n",
              "      <td>1.000000</td>\n",
              "      <td>431.80000</td>\n",
              "      <td>4.000000</td>\n",
              "      <td>165.000000</td>\n",
              "      <td>13.300000</td>\n",
              "      <td>15.000000</td>\n",
              "      <td>298.000000</td>\n",
              "      <td>44.000000</td>\n",
              "      <td>60.300000</td>\n",
              "      <td>115.000000</td>\n",
              "      <td>7.600000</td>\n",
              "      <td>4.300000</td>\n",
              "      <td>103.000000</td>\n",
              "      <td>121.000000</td>\n",
              "      <td>234.000000</td>\n",
              "      <td>155.000000</td>\n",
              "      <td>95.000000</td>\n",
              "      <td>500.000000</td>\n",
              "      <td>918.000000</td>\n",
              "      <td>38.80000</td>\n",
              "      <td>600.000000</td>\n",
              "      <td>128.300000</td>\n",
              "      <td>300.000000</td>\n",
              "      <td>94.000000</td>\n",
              "      <td>197.000000</td>\n",
              "      <td>22.100000</td>\n",
              "      <td>15.000000</td>\n",
              "      <td>1143.000000</td>\n",
              "      <td>50.000000</td>\n",
              "      <td>61.800000</td>\n",
              "      <td>300.000000</td>\n",
              "      <td>22.900000</td>\n",
              "      <td>9.900000</td>\n",
              "      <td>201.000000</td>\n",
              "      <td>209.000000</td>\n",
              "      <td>274.000000</td>\n",
              "      <td>177.000000</td>\n",
              "      <td>100.000000</td>\n",
              "      <td>...</td>\n",
              "      <td>430.000000</td>\n",
              "      <td>47.000000</td>\n",
              "      <td>61.050000</td>\n",
              "      <td>142.000000</td>\n",
              "      <td>7.600000</td>\n",
              "      <td>6.500000</td>\n",
              "      <td>110.00000</td>\n",
              "      <td>132.000000</td>\n",
              "      <td>234.000000</td>\n",
              "      <td>167.000000</td>\n",
              "      <td>99.000000</td>\n",
              "      <td>500.000000</td>\n",
              "      <td>919.000000</td>\n",
              "      <td>39.800000</td>\n",
              "      <td>3112.500000</td>\n",
              "      <td>140.800000</td>\n",
              "      <td>300.000000</td>\n",
              "      <td>95.000000</td>\n",
              "      <td>108.000000</td>\n",
              "      <td>12.900000</td>\n",
              "      <td>12.000000</td>\n",
              "      <td>1058.000000</td>\n",
              "      <td>31.000000</td>\n",
              "      <td>35.000000</td>\n",
              "      <td>242.000000</td>\n",
              "      <td>20.800000</td>\n",
              "      <td>5.600000</td>\n",
              "      <td>201.000000</td>\n",
              "      <td>157.00000</td>\n",
              "      <td>238.000000</td>\n",
              "      <td>40.000000</td>\n",
              "      <td>68.000000</td>\n",
              "      <td>446.000000</td>\n",
              "      <td>496.000000</td>\n",
              "      <td>57.100000</td>\n",
              "      <td>11000.000000</td>\n",
              "      <td>129.800000</td>\n",
              "      <td>236.000000</td>\n",
              "      <td>727.680000</td>\n",
              "      <td>1.000000</td>\n",
              "    </tr>\n",
              "  </tbody>\n",
              "</table>\n",
              "<p>8 rows × 111 columns</p>\n",
              "</div>"
            ],
            "text/plain": [
              "          PATIENT_ID          Age  ...     pH_Range  In-hospital_death\n",
              "count    3989.000000  3989.000000  ...  3989.000000        3989.000000\n",
              "mean   137609.115066     1.542241  ...     0.726180           0.137378\n",
              "std      2923.895346     1.123976  ...    16.633622           0.344289\n",
              "min    132539.000000     0.000000  ...     0.000000           0.000000\n",
              "25%    135077.000000     1.000000  ...     0.070000           0.000000\n",
              "50%    137594.000000     2.000000  ...     0.150000           0.000000\n",
              "75%    140102.000000     3.000000  ...     0.420000           0.000000\n",
              "max    142673.000000     3.000000  ...   727.680000           1.000000\n",
              "\n",
              "[8 rows x 111 columns]"
            ]
          },
          "metadata": {
            "tags": []
          },
          "execution_count": 132
        }
      ]
    },
    {
      "cell_type": "code",
      "metadata": {
        "colab": {
          "base_uri": "https://localhost:8080/"
        },
        "id": "w53SqKO2GkAh",
        "outputId": "aef25908-f4fd-46e8-b528-e486b76b8f6f"
      },
      "source": [
        "#Columns with negative values\r\n",
        "print(hospital_data.columns[(hospital_data< 0).any()].tolist())"
      ],
      "execution_count": 133,
      "outputs": [
        {
          "output_type": "stream",
          "text": [
            "['Gender', 'Height', 'Temp_Min', 'Weight_Min', 'Weight_Max', 'Weight_Mean', 'Weight_Median']\n"
          ],
          "name": "stdout"
        }
      ]
    },
    {
      "cell_type": "code",
      "metadata": {
        "colab": {
          "base_uri": "https://localhost:8080/",
          "height": 503
        },
        "id": "TZRAwlq1WuFa",
        "outputId": "6005c8fa-0299-4b68-eb5c-cf5ac659404c"
      },
      "source": [
        "plt.figure(figsize=(16,8))\r\n",
        "hospital_data.boxplot(column=['Gender', 'Height','Temp_Min','Weight_Min','Weight_Max','Weight_Mean','Weight_Median'])"
      ],
      "execution_count": 134,
      "outputs": [
        {
          "output_type": "execute_result",
          "data": {
            "text/plain": [
              "<matplotlib.axes._subplots.AxesSubplot at 0x7f89b747bdd0>"
            ]
          },
          "metadata": {
            "tags": []
          },
          "execution_count": 134
        },
        {
          "output_type": "display_data",
          "data": {
            "image/png": "[encoded data removed]",
            "text/plain": [
              "<Figure size 1152x576 with 1 Axes>"
            ]
          },
          "metadata": {
            "tags": []
          }
        }
      ]
    },
    {
      "cell_type": "markdown",
      "metadata": {
        "id": "uYXLLv4aIEnO"
      },
      "source": [
        "###### **Gender**"
      ]
    },
    {
      "cell_type": "code",
      "metadata": {
        "colab": {
          "base_uri": "https://localhost:8080/"
        },
        "id": "mtoquv08ZO07",
        "outputId": "284ab84e-bc39-4754-e907-7bb28de1deca"
      },
      "source": [
        "#Imputing negative gender values\r\n",
        "print(\"Gender with their counts:\",hospital_data.groupby(by = 'Gender').size())\r\n",
        "hospital_data['Gender'] = hospital_data['Gender'].replace(-1.0,1.0)"
      ],
      "execution_count": 135,
      "outputs": [
        {
          "output_type": "stream",
          "text": [
            "Gender with their counts: Gender\n",
            "-1.0       3\n",
            " 0.0    1745\n",
            " 1.0    2241\n",
            "dtype: int64\n"
          ],
          "name": "stdout"
        }
      ]
    },
    {
      "cell_type": "markdown",
      "metadata": {
        "id": "Bi7piuzKcIPC"
      },
      "source": [
        "###### **Height**"
      ]
    },
    {
      "cell_type": "code",
      "metadata": {
        "colab": {
          "base_uri": "https://localhost:8080/"
        },
        "id": "ExuU9dXgb_WY",
        "outputId": "6f655d40-27ad-4040-93da-47e59d2fba62"
      },
      "source": [
        "#Imputing negative height values\r\n",
        "print(hospital_data[hospital_data.Height < 0]['Height'].unique())\r\n",
        "hospital_data['Height'] = hospital_data['Height'].replace(-1.0,hospital_data['Height'].mean())"
      ],
      "execution_count": 136,
      "outputs": [
        {
          "output_type": "stream",
          "text": [
            "[-1.]\n"
          ],
          "name": "stdout"
        }
      ]
    },
    {
      "cell_type": "markdown",
      "metadata": {
        "id": "CW5eNpBVeCZy"
      },
      "source": [
        "###### **Min Temp**"
      ]
    },
    {
      "cell_type": "code",
      "metadata": {
        "colab": {
          "base_uri": "https://localhost:8080/"
        },
        "id": "gmMR5lokcza4",
        "outputId": "20b544cd-c038-4020-dc26-d2e44fe649ee"
      },
      "source": [
        "#Imputing negative Min temperature values\r\n",
        "print(\"Patients with negative temperature:\",hospital_data[(hospital_data.Temp_Min < 0)].shape[0])\r\n",
        "print(\"Negative temperatuer values:\",hospital_data[(hospital_data.Temp_Min < 0)]['Temp_Min'].unique())\r\n",
        "print(\"Dead patients with negative temperature:\",hospital_data[(hospital_data.Temp_Min < 0) & (hospital_data['In-hospital_death'] == 1)]['Temp_Min'])\r\n",
        "hospital_data['Temp_Min'] = hospital_data['Temp_Min'].replace(-12.5,hospital_data['Temp_Min'].mean())"
      ],
      "execution_count": 137,
      "outputs": [
        {
          "output_type": "stream",
          "text": [
            "Patients with negative temperature: 24\n",
            "Negative temperatuer values: [-17.8 -12.5]\n",
            "Dead patients with negative temperature: 608    -17.8\n",
            "1858   -17.8\n",
            "2093   -17.8\n",
            "Name: Temp_Min, dtype: float64\n"
          ],
          "name": "stdout"
        }
      ]
    },
    {
      "cell_type": "markdown",
      "metadata": {
        "id": "y_jrkUDAgp1q"
      },
      "source": [
        "###### **Weight Min**"
      ]
    },
    {
      "cell_type": "code",
      "metadata": {
        "colab": {
          "base_uri": "https://localhost:8080/"
        },
        "id": "3K2r4c5Wd_C4",
        "outputId": "2e2eb7b2-f406-4c6c-a760-b7fcda3dbd25"
      },
      "source": [
        "#Imputing negative min weight values\r\n",
        "print(hospital_data[hospital_data['Weight_Min'] < 0]['Weight_Min'].unique())\r\n",
        "hospital_data['Weight_Min'] = hospital_data['Weight_Min'].replace(-1.0,hospital_data['Weight_Min'].mean())"
      ],
      "execution_count": 138,
      "outputs": [
        {
          "output_type": "stream",
          "text": [
            "[-1.]\n"
          ],
          "name": "stdout"
        }
      ]
    },
    {
      "cell_type": "markdown",
      "metadata": {
        "id": "9dV00rMwguf0"
      },
      "source": [
        "###### **Weight Max**"
      ]
    },
    {
      "cell_type": "code",
      "metadata": {
        "colab": {
          "base_uri": "https://localhost:8080/"
        },
        "id": "2oeclxdXgzEt",
        "outputId": "6aee68ab-f40c-4c24-8513-5fcadf369ecc"
      },
      "source": [
        "##Imputing negative max weight values\r\n",
        "print(hospital_data[hospital_data['Weight_Max'] < 0]['Weight_Max'].unique())\r\n",
        "hospital_data['Weight_Max'] = hospital_data['Weight_Max'].replace(-1.0,hospital_data['Weight_Max'].mean())"
      ],
      "execution_count": 139,
      "outputs": [
        {
          "output_type": "stream",
          "text": [
            "[-1.]\n"
          ],
          "name": "stdout"
        }
      ]
    },
    {
      "cell_type": "markdown",
      "metadata": {
        "id": "xZTQN5t5hCWd"
      },
      "source": [
        "###### **Weight Mean**"
      ]
    },
    {
      "cell_type": "code",
      "metadata": {
        "colab": {
          "base_uri": "https://localhost:8080/"
        },
        "id": "Au2x4YodhGtQ",
        "outputId": "da0d4612-9baa-4403-ae12-b0a023a62a5d"
      },
      "source": [
        "#Imputing negative mean weight values\r\n",
        "print(hospital_data[hospital_data['Weight_Mean'] < 0]['Weight_Mean'].unique())\r\n",
        "hospital_data['Weight_Mean'] = hospital_data['Weight_Mean'].replace(-1.0,hospital_data['Weight_Mean'].mean())"
      ],
      "execution_count": 140,
      "outputs": [
        {
          "output_type": "stream",
          "text": [
            "[-1.]\n"
          ],
          "name": "stdout"
        }
      ]
    },
    {
      "cell_type": "markdown",
      "metadata": {
        "id": "ojiPzMfAhWM0"
      },
      "source": [
        "###### **Weight Median**\r\n"
      ]
    },
    {
      "cell_type": "code",
      "metadata": {
        "id": "28UiAa8XhaZ2"
      },
      "source": [
        "#Imputing negative median weight values\r\n",
        "hospital_data[hospital_data['Weight_Median'] < 0]['Weight_Median'].unique()\r\n",
        "hospital_data['Weight_Median'] = hospital_data['Weight_Median'].replace(-1.0,hospital_data['Weight_Median'].mean())"
      ],
      "execution_count": 141,
      "outputs": []
    },
    {
      "cell_type": "markdown",
      "metadata": {
        "id": "d7DjPgokKgiV"
      },
      "source": [
        "###### **Feature Selection**\r\n",
        "\r\n",
        "Feature selection is a very important step since we have **111 features** with only **3989 data points** thus our model might overfit and even a lot of features could be redundant with high correlation. I performed feature selection using correlation and p-value check to see if a particular feature is contributing to the prediction of target variable or not.\r\n",
        "\r\n",
        "**correlation** I removed the one of the features from the two highly correlated featues. After performing this we got **74 featuers** which are not highly correlated.\r\n",
        "\r\n",
        "**Feature Selection** Next we will be selecting the columns based on how they affect the p-value. We are the removing the target column because it is the column we are trying to predict.We assume to null hypothesis to be “The selected combination of dependent variables do not have any effect on the independent variable”. Then we build a small regression model and calculate the p values. If the p values is higher than the threshold, we discard that combination of features. We got to **23 features** after this step which contibutes the most to our target variable.\r\n"
      ]
    },
    {
      "cell_type": "code",
      "metadata": {
        "colab": {
          "base_uri": "https://localhost:8080/"
        },
        "id": "2QW15Xuyki8z",
        "outputId": "f4ff61e9-c52e-48fd-b74c-58cce1351eea"
      },
      "source": [
        "#shape of data\r\n",
        "hospital_data.shape"
      ],
      "execution_count": 142,
      "outputs": [
        {
          "output_type": "execute_result",
          "data": {
            "text/plain": [
              "(3989, 111)"
            ]
          },
          "metadata": {
            "tags": []
          },
          "execution_count": 142
        }
      ]
    },
    {
      "cell_type": "code",
      "metadata": {
        "id": "wZ3_8DK6z3SG"
      },
      "source": [
        "#checking correlation between the features and removing one highly correlated featue.\r\n",
        "corr = hospital_data.corr()\r\n",
        "columns = np.full((corr.shape[0],), True, dtype=bool)\r\n",
        "for i in range(corr.shape[0]):\r\n",
        "    for j in range(i+1, corr.shape[0]):\r\n",
        "        if corr.iloc[i,j] >= 0.9:\r\n",
        "            if columns[j]:\r\n",
        "                columns[j] = False\r\n",
        "selected_columns = hospital_data.columns[columns]\r\n",
        "hospital_data = hospital_data[selected_columns]"
      ],
      "execution_count": 143,
      "outputs": []
    },
    {
      "cell_type": "code",
      "metadata": {
        "colab": {
          "base_uri": "https://localhost:8080/"
        },
        "id": "rEi9x0Ru0GAI",
        "outputId": "0fe9abf1-4d14-4484-c647-7b2ad2babf85"
      },
      "source": [
        "hospital_data.shape\r\n"
      ],
      "execution_count": 144,
      "outputs": [
        {
          "output_type": "execute_result",
          "data": {
            "text/plain": [
              "(3989, 73)"
            ]
          },
          "metadata": {
            "tags": []
          },
          "execution_count": 144
        }
      ]
    },
    {
      "cell_type": "code",
      "metadata": {
        "colab": {
          "base_uri": "https://localhost:8080/"
        },
        "id": "1TEndlO40iUj",
        "outputId": "cd9b9192-5751-414c-b8c8-2770bc63a53e"
      },
      "source": [
        "selected_columns"
      ],
      "execution_count": 145,
      "outputs": [
        {
          "output_type": "execute_result",
          "data": {
            "text/plain": [
              "Index(['PATIENT_ID', 'Age', 'Gender', 'Height', 'ICUType', 'BUN_Min',\n",
              "       'Creatinine_Min', 'GCS_Min', 'Glucose_Min', 'HCO3_Min', 'HCT_Min',\n",
              "       'HR_Min', 'K_Min', 'Mg_Min', 'NIDiasABP_Min', 'NIMAP_Min',\n",
              "       'NISysABP_Min', 'Na_Min', 'PaCO2_Min', 'PaO2_Min', 'Platelets_Min',\n",
              "       'Temp_Min', 'Urine_Min', 'WBC_Min', 'Weight_Min', 'pH_Min', 'GCS_Max',\n",
              "       'Glucose_Max', 'HCO3_Max', 'HCT_Max', 'HR_Max', 'K_Max', 'Mg_Max',\n",
              "       'NIDiasABP_Max', 'NISysABP_Max', 'Na_Max', 'PaCO2_Max', 'PaO2_Max',\n",
              "       'Temp_Max', 'Urine_Max', 'WBC_Max', 'pH_Max', 'GCS_Mean',\n",
              "       'Glucose_Mean', 'HR_Mean', 'K_Mean', 'Mg_Mean', 'NIDiasABP_Mean',\n",
              "       'NIMAP_Mean', 'NISysABP_Mean', 'PaCO2_Mean', 'PaO2_Mean', 'Temp_Mean',\n",
              "       'Urine_Mean', 'pH_Mean', 'Temp_Median', 'BUN_Range', 'Creatinine_Range',\n",
              "       'GCS_Range', 'HCO3_Range', 'HCT_Range', 'HR_Range', 'K_Range',\n",
              "       'Mg_Range', 'NIDiasABP_Range', 'NISysABP_Range', 'Na_Range',\n",
              "       'PaCO2_Range', 'Platelets_Range', 'Temp_Range', 'WBC_Range',\n",
              "       'Weight_Range', 'In-hospital_death'],\n",
              "      dtype='object')"
            ]
          },
          "metadata": {
            "tags": []
          },
          "execution_count": 145
        }
      ]
    },
    {
      "cell_type": "code",
      "metadata": {
        "id": "idpBq2gq0UNh"
      },
      "source": [
        "#Feature selection\r\n",
        "selected_columns = selected_columns[1:]\r\n",
        "import statsmodels.api as sm\r\n",
        "def backwardElimination(x, Y, sl, columns):\r\n",
        "    numVars = len(x[0])\r\n",
        "    for i in range(0, numVars):\r\n",
        "        regressor_OLS = sm.OLS(Y, x).fit()\r\n",
        "        maxVar = max(regressor_OLS.pvalues).astype(float)\r\n",
        "        if maxVar > sl:\r\n",
        "            for j in range(0, numVars - i):\r\n",
        "                if (regressor_OLS.pvalues[j].astype(float) == maxVar):\r\n",
        "                    x = np.delete(x, j, 1)\r\n",
        "                    columns = np.delete(columns, j)\r\n",
        "                    \r\n",
        "    regressor_OLS.summary()\r\n",
        "    return x, columns\r\n",
        "SL = 0.05\r\n",
        "data_modeled, selected_columns = backwardElimination(hospital_data.iloc[:,1:].values, hospital_data.iloc[:,0].values, SL, selected_columns)\r\n",
        "\r\n"
      ],
      "execution_count": 146,
      "outputs": []
    },
    {
      "cell_type": "code",
      "metadata": {
        "colab": {
          "base_uri": "https://localhost:8080/",
          "height": 402
        },
        "id": "Xqu9h32M1O_v",
        "outputId": "b878ddc5-9d78-47cd-dd12-723695473634"
      },
      "source": [
        "result = pd.DataFrame()\r\n",
        "result['In-hospital_death'] = hospital_data.iloc[:,72]\r\n",
        "result"
      ],
      "execution_count": 147,
      "outputs": [
        {
          "output_type": "execute_result",
          "data": {
            "text/html": [
              "<div>\n",
              "<style scoped>\n",
              "    .dataframe tbody tr th:only-of-type {\n",
              "        vertical-align: middle;\n",
              "    }\n",
              "\n",
              "    .dataframe tbody tr th {\n",
              "        vertical-align: top;\n",
              "    }\n",
              "\n",
              "    .dataframe thead th {\n",
              "        text-align: right;\n",
              "    }\n",
              "</style>\n",
              "<table border=\"1\" class=\"dataframe\">\n",
              "  <thead>\n",
              "    <tr style=\"text-align: right;\">\n",
              "      <th></th>\n",
              "      <th>In-hospital_death</th>\n",
              "    </tr>\n",
              "  </thead>\n",
              "  <tbody>\n",
              "    <tr>\n",
              "      <th>0</th>\n",
              "      <td>0</td>\n",
              "    </tr>\n",
              "    <tr>\n",
              "      <th>1</th>\n",
              "      <td>0</td>\n",
              "    </tr>\n",
              "    <tr>\n",
              "      <th>2</th>\n",
              "      <td>0</td>\n",
              "    </tr>\n",
              "    <tr>\n",
              "      <th>3</th>\n",
              "      <td>0</td>\n",
              "    </tr>\n",
              "    <tr>\n",
              "      <th>4</th>\n",
              "      <td>0</td>\n",
              "    </tr>\n",
              "    <tr>\n",
              "      <th>...</th>\n",
              "      <td>...</td>\n",
              "    </tr>\n",
              "    <tr>\n",
              "      <th>3995</th>\n",
              "      <td>0</td>\n",
              "    </tr>\n",
              "    <tr>\n",
              "      <th>3996</th>\n",
              "      <td>0</td>\n",
              "    </tr>\n",
              "    <tr>\n",
              "      <th>3997</th>\n",
              "      <td>0</td>\n",
              "    </tr>\n",
              "    <tr>\n",
              "      <th>3998</th>\n",
              "      <td>1</td>\n",
              "    </tr>\n",
              "    <tr>\n",
              "      <th>3999</th>\n",
              "      <td>0</td>\n",
              "    </tr>\n",
              "  </tbody>\n",
              "</table>\n",
              "<p>3989 rows × 1 columns</p>\n",
              "</div>"
            ],
            "text/plain": [
              "      In-hospital_death\n",
              "0                     0\n",
              "1                     0\n",
              "2                     0\n",
              "3                     0\n",
              "4                     0\n",
              "...                 ...\n",
              "3995                  0\n",
              "3996                  0\n",
              "3997                  0\n",
              "3998                  1\n",
              "3999                  0\n",
              "\n",
              "[3989 rows x 1 columns]"
            ]
          },
          "metadata": {
            "tags": []
          },
          "execution_count": 147
        }
      ]
    },
    {
      "cell_type": "code",
      "metadata": {
        "colab": {
          "base_uri": "https://localhost:8080/"
        },
        "id": "9rT4SEvR1bj9",
        "outputId": "9b23fcbe-66ad-43e2-e343-4ec7d6d06426"
      },
      "source": [
        "data = pd.DataFrame(data = data_modeled, columns = selected_columns)\r\n",
        "data.shape\r\n",
        "data.columns"
      ],
      "execution_count": 159,
      "outputs": [
        {
          "output_type": "execute_result",
          "data": {
            "text/plain": [
              "Index(['Age', 'BUN_Min', 'GCS_Min', 'NIMAP_Min', 'Na_Min', 'Platelets_Min',\n",
              "       'pH_Min', 'GCS_Max', 'HCO3_Max', 'HCT_Max', 'Mg_Max', 'Na_Max',\n",
              "       'PaCO2_Max', 'PaO2_Max', 'Temp_Max', 'HR_Mean', 'K_Mean', 'NIMAP_Mean',\n",
              "       'Temp_Median', 'BUN_Range', 'GCS_Range', 'NISysABP_Range',\n",
              "       'In-hospital_death'],\n",
              "      dtype='object')"
            ]
          },
          "metadata": {
            "tags": []
          },
          "execution_count": 159
        }
      ]
    },
    {
      "cell_type": "markdown",
      "metadata": {
        "id": "hN00SLRkiOFa"
      },
      "source": [
        "#### **Dataset Splitting**\r\n",
        "\r\n",
        "It is important to split the dataset into training data and testing data so as to hide the some datapoints while training the model and checking the model performance on the hidden(test data) for observing near real-time performance. I took a classic 80:20 % train:test ratio for train-test splitting. We can also observe that we have just 13% died--in-hospital patients and 86% survivors."
      ]
    },
    {
      "cell_type": "code",
      "metadata": {
        "colab": {
          "base_uri": "https://localhost:8080/",
          "height": 526
        },
        "id": "B64fi3hERGOK",
        "outputId": "b82ed8e4-880f-483d-f88a-c1ab5a342114"
      },
      "source": [
        "#Checking the distribution of our target variable\r\n",
        "plt.figure(figsize=(8,6))\r\n",
        "counts = data['In-hospital_death'].value_counts()\r\n",
        "print(counts/data.shape[0])\r\n",
        "labels = ['Survivor', 'Died_in-hospital']\r\n",
        "ax = sns.barplot(x=labels, y=counts, log=True, palette=['green', 'red'])\r\n",
        "ax.set(xlabel='Class', ylabel='Frequency', title='Class Distribution')"
      ],
      "execution_count": 161,
      "outputs": [
        {
          "output_type": "stream",
          "text": [
            "0.0    0.862622\n",
            "1.0    0.137378\n",
            "Name: In-hospital_death, dtype: float64\n"
          ],
          "name": "stdout"
        },
        {
          "output_type": "execute_result",
          "data": {
            "text/plain": [
              "[Text(0, 0.5, 'Frequency'),\n",
              " Text(0.5, 0, 'Class'),\n",
              " Text(0.5, 1.0, 'Class Distribution')]"
            ]
          },
          "metadata": {
            "tags": []
          },
          "execution_count": 161
        },
        {
          "output_type": "display_data",
          "data": {
            "image/png": "[encoded data removed]",
            "text/plain": [
              "<Figure size 576x432 with 1 Axes>"
            ]
          },
          "metadata": {
            "tags": []
          }
        }
      ]
    },
    {
      "cell_type": "code",
      "metadata": {
        "id": "TT3cg5sHkc-5"
      },
      "source": [
        "#Seperating features and target column\r\n",
        "y = data.loc[:,'In-hospital_death']\r\n",
        "data = data.drop(['In-hospital_death'], axis = 1)\r\n",
        "X = data"
      ],
      "execution_count": 150,
      "outputs": []
    },
    {
      "cell_type": "code",
      "metadata": {
        "colab": {
          "base_uri": "https://localhost:8080/"
        },
        "id": "vz_MxOj53Lhs",
        "outputId": "4884a07d-d96b-4799-ab09-54b62344a532"
      },
      "source": [
        "#Train-test-split\r\n",
        "X_train, X_val, y_train, y_val = train_test_split(X, y, stratify= y, \\\r\n",
        "                                                  test_size=0.20, random_state=42)\r\n",
        "print(X_train.shape,y_train.shape)\r\n",
        "print(X_val.shape, y_val.shape)\r\n",
        "X_train = X_train.reset_index(drop =True)\r\n",
        "y_train = y_train.reset_index(drop = True)\r\n",
        "X_val = X_val.reset_index(drop = True)\r\n",
        "y_val = y_val.reset_index(drop = True)"
      ],
      "execution_count": 151,
      "outputs": [
        {
          "output_type": "stream",
          "text": [
            "(3191, 22) (3191,)\n",
            "(798, 22) (798,)\n"
          ],
          "name": "stdout"
        }
      ]
    },
    {
      "cell_type": "markdown",
      "metadata": {
        "id": "gzDE1z58mxZV"
      },
      "source": [
        "#### **Modeling**\r\n",
        "\r\n",
        "**Classification: Baseline Models**\r\n",
        "\r\n",
        "I am using two standard baseline models to observe the model performance with the unbalanced dataset which we observed in the previous plot. Our aim is the predict whether patient dies or survives in the hospital from the models:\r\n",
        "\r\n",
        "1. Logistic Regression\r\n",
        "2. Random Forest\r\n",
        "\r\n",
        "I have chosen logistic regression and random forest because, logistic regression is the most basic and highly used classification model applicable. Random forest is an advance model which can handle data imbalance well thus taking random forest too in consideration.\r\n",
        "\r\n",
        "**Observations** From the model's results we can make following observations:\r\n",
        "\r\n",
        "- Logistic Regression: From the confusion matrix of logistic regression, we can say that we are getting a very good prediction for the negative class which is survivor class (99 % recall) but our model is also not able to predict the true positive i.e. died In-hospital class (12 %). we also have a high false negative (88 %) which is bad for our us. Our aim should be to increase True positives prediction and decrease false negatives. We can say our model is predicting the died-in-hospital as survived due to the data imbalance.\r\n",
        "\r\n",
        "- Random Forest: Our random forest model is also giving similar results, with only 28% True positives and 95% true negatives with very high false negative which should be less.\r\n",
        "\r\n",
        "\r\n",
        "\r\n"
      ]
    },
    {
      "cell_type": "code",
      "metadata": {
        "id": "OtP4bUvcH5wd"
      },
      "source": [
        "# fit a logistic regression model to the data\r\n",
        "def logisticRegression(train_x, train_y,test_x, test_y):\r\n",
        "  model = LogisticRegression(random_state= 42)\r\n",
        "  model.fit(train_x, train_y)\r\n",
        "  print(model)\r\n",
        "  # make predictions\r\n",
        "  expected = test_y\r\n",
        "  predicted = model.predict(test_x)\r\n",
        "  # summarize the fit of the model\r\n",
        "  print(classification_report(expected, predicted))\r\n",
        "  print(confusion_matrix(expected, predicted))\r\n",
        "  disp = plot_confusion_matrix(model, test_x, test_y,\r\n",
        "                                 cmap=plt.cm.Blues,normalize = 'true')\r\n",
        "  disp.ax_.set_title(\"Confusion Matrix\")\r\n",
        "  plt.figure(figsize=(10,6))\r\n",
        "  sns.set(font_scale=1.4)\r\n",
        "  print(\"Confusion Matrix\")\r\n",
        "  plt.show()"
      ],
      "execution_count": 152,
      "outputs": []
    },
    {
      "cell_type": "code",
      "metadata": {
        "colab": {
          "base_uri": "https://localhost:8080/",
          "height": 788
        },
        "id": "QgaePzp8n_hi",
        "outputId": "60d5afce-84e6-49da-b865-e16f372e1c04"
      },
      "source": [
        "#Predicting with logistive regression model\r\n",
        "print(logisticRegression(X_train, y_train, X_val, y_val))"
      ],
      "execution_count": 153,
      "outputs": [
        {
          "output_type": "stream",
          "text": [
            "LogisticRegression(C=1.0, class_weight=None, dual=False, fit_intercept=True,\n",
            "                   intercept_scaling=1, l1_ratio=None, max_iter=100,\n",
            "                   multi_class='auto', n_jobs=None, penalty='l2',\n",
            "                   random_state=42, solver='lbfgs', tol=0.0001, verbose=0,\n",
            "                   warm_start=False)\n",
            "              precision    recall  f1-score   support\n",
            "\n",
            "         0.0       0.88      0.99      0.93       688\n",
            "         1.0       0.65      0.12      0.20       110\n",
            "\n",
            "    accuracy                           0.87       798\n",
            "   macro avg       0.76      0.55      0.56       798\n",
            "weighted avg       0.84      0.87      0.83       798\n",
            "\n",
            "[[681   7]\n",
            " [ 97  13]]\n"
          ],
          "name": "stdout"
        },
        {
          "output_type": "stream",
          "text": [
            "/usr/local/lib/python3.7/dist-packages/sklearn/linear_model/_logistic.py:940: ConvergenceWarning:\n",
            "\n",
            "lbfgs failed to converge (status=1):\n",
            "STOP: TOTAL NO. of ITERATIONS REACHED LIMIT.\n",
            "\n",
            "Increase the number of iterations (max_iter) or scale the data as shown in:\n",
            "    https://scikit-learn.org/stable/modules/preprocessing.html\n",
            "Please also refer to the documentation for alternative solver options:\n",
            "    https://scikit-learn.org/stable/modules/linear_model.html#logistic-regression\n",
            "\n"
          ],
          "name": "stderr"
        },
        {
          "output_type": "stream",
          "text": [
            "Confusion Matrix\n"
          ],
          "name": "stdout"
        },
        {
          "output_type": "display_data",
          "data": {
            "image/png": "[encoded data removed]",
            "text/plain": [
              "<Figure size 432x288 with 2 Axes>"
            ]
          },
          "metadata": {
            "tags": []
          }
        },
        {
          "output_type": "display_data",
          "data": {
            "text/plain": [
              "<Figure size 720x432 with 0 Axes>"
            ]
          },
          "metadata": {
            "tags": []
          }
        },
        {
          "output_type": "stream",
          "text": [
            "None\n"
          ],
          "name": "stdout"
        }
      ]
    },
    {
      "cell_type": "code",
      "metadata": {
        "id": "0kc-lbrcoCME"
      },
      "source": [
        "def randomForest(train_x, train_y,test_x, test_y):\r\n",
        "  clf = RandomForestClassifier(n_estimators = 5, max_depth =35, random_state=0)\r\n",
        "  clf.fit(train_x,train_y)\r\n",
        "  print(classification_report(test_y, clf.predict(test_x)))\r\n",
        "  print(confusion_matrix(test_y, clf.predict(test_x)))\r\n",
        "  disp = plot_confusion_matrix(clf, test_x, test_y,\r\n",
        "                                 cmap=plt.cm.Blues, normalize = 'true')\r\n",
        "  disp.ax_.set_title(\"Confusion Matrix\")\r\n",
        "  print(\"Confusion Matrix\")\r\n",
        "  plt.show()"
      ],
      "execution_count": 154,
      "outputs": []
    },
    {
      "cell_type": "code",
      "metadata": {
        "colab": {
          "base_uri": "https://localhost:8080/",
          "height": 534
        },
        "id": "owCaKIkhp2Gq",
        "outputId": "fdf6d17f-7e93-4b91-9cd1-c5be5715d613"
      },
      "source": [
        "#Predicting with Random Forest model\r\n",
        "print(randomForest(X_train, y_train, X_val, y_val))"
      ],
      "execution_count": 155,
      "outputs": [
        {
          "output_type": "stream",
          "text": [
            "              precision    recall  f1-score   support\n",
            "\n",
            "         0.0       0.89      0.95      0.92       688\n",
            "         1.0       0.50      0.28      0.36       110\n",
            "\n",
            "    accuracy                           0.86       798\n",
            "   macro avg       0.70      0.62      0.64       798\n",
            "weighted avg       0.84      0.86      0.85       798\n",
            "\n",
            "[[657  31]\n",
            " [ 79  31]]\n",
            "Confusion Matrix\n"
          ],
          "name": "stdout"
        },
        {
          "output_type": "display_data",
          "data": {
            "image/png": "[encoded data removed]",
            "text/plain": [
              "<Figure size 432x288 with 2 Axes>"
            ]
          },
          "metadata": {
            "tags": []
          }
        },
        {
          "output_type": "stream",
          "text": [
            "None\n"
          ],
          "name": "stdout"
        }
      ]
    },
    {
      "cell_type": "markdown",
      "metadata": {
        "id": "l6KAcOE8VN1l"
      },
      "source": [
        "##### **Over Sampling**\r\n",
        "\r\n",
        "We can further try oversampling technique to handle the data imbalance. I am using SMOTE for oversampling. SMOTE(Synthetic Minority Oversampling Technique) is the most widely used approach to synthesizing new examples. SMOTE works by selecting examples that are close in the feature space, drawing a line between the examples in the feature space and drawing a new sample at a point along that line. Synthetic over-sampling works to cause the classifier to build larger decision regions that contain nearby minority class points.\r\n",
        "\r\n",
        "**Observation:** I made the following observations for both the models:\r\n",
        "\r\n",
        "- Logistic regression: From the confustion matrix of logistic regression, we can say even though our true negative decreased to 76% but our true positive which is the more important class have increased to a very high value (72%) which is a very good number that our logistive regression model is giving after over sampling. We can further perform feature engineering and use advance models to increase this accuracy further. \r\n",
        "\r\n",
        "- Random Forest: Even though logistic regression performed well with oversampling Random forest couldn't perform very well in this case giving the true positives around 46% only. \r\n",
        "\r\n",
        "We can choose logistic regresion as the final model in this case.\r\n"
      ]
    },
    {
      "cell_type": "code",
      "metadata": {
        "colab": {
          "base_uri": "https://localhost:8080/"
        },
        "id": "JmI_CAvIqPnH",
        "outputId": "05d49e16-ed7c-41c4-f80d-8932e492af7b"
      },
      "source": [
        "#Oversampling\r\n",
        "X_resampled, y_resampled = SMOTE().fit_sample(X_train,y_train)\r\n",
        "counter = Counter(y_resampled)\r\n",
        "print(counter)"
      ],
      "execution_count": 156,
      "outputs": [
        {
          "output_type": "stream",
          "text": [
            "Counter({1.0: 2753, 0.0: 2753})\n"
          ],
          "name": "stdout"
        },
        {
          "output_type": "stream",
          "text": [
            "/usr/local/lib/python3.7/dist-packages/sklearn/utils/deprecation.py:87: FutureWarning:\n",
            "\n",
            "Function safe_indexing is deprecated; safe_indexing is deprecated in version 0.22 and will be removed in version 0.24.\n",
            "\n"
          ],
          "name": "stderr"
        }
      ]
    },
    {
      "cell_type": "code",
      "metadata": {
        "colab": {
          "base_uri": "https://localhost:8080/",
          "height": 802
        },
        "id": "cAa6quNXqvDt",
        "outputId": "e76400b0-e9ae-4720-c563-13847cdbf30d"
      },
      "source": [
        "#Predicting with logistive regression model\r\n",
        "print(logisticRegression(X_resampled, y_resampled, X_val, y_val)) "
      ],
      "execution_count": 157,
      "outputs": [
        {
          "output_type": "stream",
          "text": [
            "/usr/local/lib/python3.7/dist-packages/sklearn/linear_model/_logistic.py:940: ConvergenceWarning:\n",
            "\n",
            "lbfgs failed to converge (status=1):\n",
            "STOP: TOTAL NO. of ITERATIONS REACHED LIMIT.\n",
            "\n",
            "Increase the number of iterations (max_iter) or scale the data as shown in:\n",
            "    https://scikit-learn.org/stable/modules/preprocessing.html\n",
            "Please also refer to the documentation for alternative solver options:\n",
            "    https://scikit-learn.org/stable/modules/linear_model.html#logistic-regression\n",
            "\n"
          ],
          "name": "stderr"
        },
        {
          "output_type": "stream",
          "text": [
            "LogisticRegression(C=1.0, class_weight=None, dual=False, fit_intercept=True,\n",
            "                   intercept_scaling=1, l1_ratio=None, max_iter=100,\n",
            "                   multi_class='auto', n_jobs=None, penalty='l2',\n",
            "                   random_state=42, solver='lbfgs', tol=0.0001, verbose=0,\n",
            "                   warm_start=False)\n",
            "              precision    recall  f1-score   support\n",
            "\n",
            "         0.0       0.94      0.76      0.84       688\n",
            "         1.0       0.32      0.72      0.45       110\n",
            "\n",
            "    accuracy                           0.75       798\n",
            "   macro avg       0.63      0.74      0.64       798\n",
            "weighted avg       0.86      0.75      0.79       798\n",
            "\n",
            "[[522 166]\n",
            " [ 31  79]]\n",
            "Confusion Matrix\n"
          ],
          "name": "stdout"
        },
        {
          "output_type": "display_data",
          "data": {
            "image/png": "[encoded data removed]",
            "text/plain": [
              "<Figure size 432x288 with 2 Axes>"
            ]
          },
          "metadata": {
            "tags": []
          }
        },
        {
          "output_type": "display_data",
          "data": {
            "text/plain": [
              "<Figure size 720x432 with 0 Axes>"
            ]
          },
          "metadata": {
            "tags": []
          }
        },
        {
          "output_type": "stream",
          "text": [
            "None\n"
          ],
          "name": "stdout"
        }
      ]
    },
    {
      "cell_type": "code",
      "metadata": {
        "colab": {
          "base_uri": "https://localhost:8080/",
          "height": 534
        },
        "id": "FC-gSANJqWL8",
        "outputId": "308ff246-6d2c-4a4b-edfa-efda4f283232"
      },
      "source": [
        "#Predicting with Random Forest model\r\n",
        "print(randomForest(X_resampled, y_resampled, X_val, y_val))"
      ],
      "execution_count": 158,
      "outputs": [
        {
          "output_type": "stream",
          "text": [
            "              precision    recall  f1-score   support\n",
            "\n",
            "         0.0       0.91      0.89      0.90       688\n",
            "         1.0       0.41      0.46      0.43       110\n",
            "\n",
            "    accuracy                           0.83       798\n",
            "   macro avg       0.66      0.68      0.67       798\n",
            "weighted avg       0.84      0.83      0.84       798\n",
            "\n",
            "[[614  74]\n",
            " [ 59  51]]\n",
            "Confusion Matrix\n"
          ],
          "name": "stdout"
        },
        {
          "output_type": "display_data",
          "data": {
            "image/png": "[encoded data removed]",
            "text/plain": [
              "<Figure size 432x288 with 2 Axes>"
            ]
          },
          "metadata": {
            "tags": []
          }
        },
        {
          "output_type": "stream",
          "text": [
            "None\n"
          ],
          "name": "stdout"
        }
      ]
    }
  ]
}